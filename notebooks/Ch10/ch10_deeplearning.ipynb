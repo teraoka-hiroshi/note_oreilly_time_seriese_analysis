{
 "cells": [
  {
   "cell_type": "markdown",
   "id": "13328194-5446-45a3-b94d-a08dbd3e1677",
   "metadata": {},
   "source": [
    "# 10章 ディープラーニングによる時系列解析\n"
   ]
  },
  {
   "cell_type": "markdown",
   "id": "98b3d3ec-f4cf-46f8-b8de-fdc5d935809c",
   "metadata": {},
   "source": [
    "## 本章の構成\n",
    "\n",
    "- 前書き\n",
    "  - 深層学習による時系列解析の概要(利点、気をつけるポイント)\n",
    "  - 前処理は原理的には不要だが、現実的には必要\n",
    "  - 柔軟性が高いので、まだまだ将来の展望がある\n",
    "- ディープラーニングの概念\n",
    "  - 行列計算の連鎖\n",
    "- ニューラルネットワークのプログラミング方\n",
    "  - グラフ\n",
    "  - フレームワークを使う\n",
    "- 訓練用パイプラインの構築\n",
    "  - ここから実例（電力使用量の変化量予測）に基づいた解説\n",
    "  - まずは、実際にモデルを構築する前に、データの前処理、評価指標の定義を実装する\n",
    "- フィードフォワードネットワーク\n",
    "  - ここから４節にわたって、具体的に時系列を分析するモデルを定義する\n",
    "  - 一つ目は単純なfull-connectネットワーク\n",
    "  - 単純だがデータがある程度あればFCネットワークで性能が出る\n",
    "- CNN\n",
    "  - CNNでの時系列解析\n",
    "  - 時系列の時間的な幅と計測ポイントについて二次元のデータとして扱う（幅(計測ポイント)は1とする）\n",
    "- RNN\n",
    "  - GRUの実装\n",
    "- アーキテクチャの組み合わせ\n",
    "  - ARモデルの組み合わせ\n",
    "  - かなり精度が高い"
   ]
  },
  {
   "cell_type": "code",
   "execution_count": 1,
   "id": "77ee2909-7cba-4254-a249-16586df518c2",
   "metadata": {},
   "outputs": [],
   "source": [
    "import os\n",
    "import sys\n",
    "import numpy as np\n",
    "import pandas as pd\n",
    "from scipy import stats\n",
    "\n",
    "%matplotlib inline\n",
    "import matplotlib.pyplot as plt\n",
    "import seaborn as sns\n",
    "sns.set(font_scale = 1.5)\n",
    "c_list = sns.color_palette().as_hex()\n",
    "color_num = len(c_list)"
   ]
  },
  {
   "cell_type": "markdown",
   "id": "1f78a2a2-db56-44bc-abff-0a6613b83fb8",
   "metadata": {},
   "source": [
    "## 準備\n",
    "\n",
    "mxnetをインストールする。\n",
    "\n",
    "[公式ドキュメントを参考](https://mxnet.apache.org/versions/1.9.0/get_started?)に実装環境に合わせた方法でインストールする。\n",
    "\n",
    "ここでは、mxnet v1.9.0 をMacOSのCPU環境でインストールする。"
   ]
  },
  {
   "cell_type": "code",
   "execution_count": 2,
   "id": "d13687d0-76b8-47ae-8bc0-a5f74d7a198c",
   "metadata": {},
   "outputs": [],
   "source": [
    "#! pip install mxnet"
   ]
  },
  {
   "cell_type": "markdown",
   "id": "9de4e1e3-1847-4b57-b624-f2bd6aa976aa",
   "metadata": {},
   "source": [
    "インストールできたかの確認"
   ]
  },
  {
   "cell_type": "code",
   "execution_count": 3,
   "id": "c0397ce8-9dc6-489a-aef2-098be2d933af",
   "metadata": {},
   "outputs": [
    {
     "data": {
      "text/plain": [
       "array([[3., 3., 3.],\n",
       "       [3., 3., 3.]], dtype=float32)"
      ]
     },
     "execution_count": 3,
     "metadata": {},
     "output_type": "execute_result"
    }
   ],
   "source": [
    "import mxnet as mx\n",
    "a = mx.nd.ones((2, 3))\n",
    "b = a * 2 + 1\n",
    "b.asnumpy()"
   ]
  },
  {
   "cell_type": "markdown",
   "id": "18009eab-d39a-45c9-b6c9-b47282c259a6",
   "metadata": {},
   "source": [
    "mxnetの基本の構文（モデルとOptimizerの定義まで）。\n",
    "\n",
    "他のフレームワークと比べて特別平易でも複雑でもない。"
   ]
  },
  {
   "cell_type": "code",
   "execution_count": 4,
   "id": "f3badb8b-bca7-41d7-a12e-faaf66fb0540",
   "metadata": {},
   "outputs": [],
   "source": [
    "# モデルの定義\n",
    "net = mx.gluon.nn.Sequential()\n",
    "net.add(\n",
    "    mx.gluon.nn.Dense(120, activation='relu'), # input > 120次元のfull-connect\n",
    "    mx.gluon.nn.Dense(1)                       # １２０次元 > 1次元のfull-connect\n",
    ")\n",
    "net.initialize(init=mx.init.Xavier()) # 初期化(下記参照)\n",
    "\n",
    "# 損失関数の定義\n",
    "L2Loss = mx.gluon.loss.L2Loss() # 二乗誤差。タスクに依存する。これはモデルの定義に含まれると考えるべき。\n",
    "\n",
    "# Trainerの定義\n",
    "trainer = mx.gluon.Trainer(\n",
    "    net.collect_params(), \n",
    "    'sgd', \n",
    "    {'learning_rate':0.1}, \n",
    ")"
   ]
  },
  {
   "cell_type": "markdown",
   "id": "a3c6dc96-8d7b-4801-ae70-f96a6f03d39e",
   "metadata": {},
   "source": [
    "初期化にはXavierの初期化と呼ばれる初期化方法を使っている。\n",
    "これは、入力と出力の分散が確保できるような初期化法とのこと。元々はシグモイド活性化関数の学習過程の解析に基づいて開発された。以下の参考文献参照。\n",
    "\n",
    "- [Xavier and Bengio, 2010](https://proceedings.mlr.press/v9/glorot10a.html)\n",
    "\n",
    "ReLU向けに開発されたHe初期化と呼ばれる手法もある。\n",
    "\n",
    "mxnetの実装がXavier初期化だけなのかは確認してない。ドキュメントには`Xavier or similar initialization scheme.`とあるので、活性化関数によって自動で変えてたりする？？"
   ]
  },
  {
   "cell_type": "markdown",
   "id": "f08dcb5e-af2d-46db-a2e0-e85faaee0410",
   "metadata": {},
   "source": [
    "## データの確認と問題設定"
   ]
  },
  {
   "cell_type": "markdown",
   "id": "07c230f5-0e7e-4d71-b072-90c21453ec2c",
   "metadata": {},
   "source": [
    "### データの確認"
   ]
  },
  {
   "cell_type": "code",
   "execution_count": 5,
   "id": "b8f5d35c-96a5-45bd-97e6-78e07274f094",
   "metadata": {},
   "outputs": [],
   "source": [
    "# サンプルデータの取得\n",
    "# ! wget https://github.com/PracticalTimeSeriesAnalysis/BookRepo/raw/master/Ch10/electricity.txt.gz\n",
    "# ! gzip -d electricity.txt.gz"
   ]
  },
  {
   "cell_type": "code",
   "execution_count": 6,
   "id": "d4660dcc-1259-4e21-a595-846bfe9c5fb2",
   "metadata": {},
   "outputs": [
    {
     "data": {
      "text/plain": [
       "(26304, 321)"
      ]
     },
     "execution_count": 6,
     "metadata": {},
     "output_type": "execute_result"
    }
   ],
   "source": [
    "elec = pd.read_csv('electricity.txt', header=None)\n",
    "elec.shape"
   ]
  },
  {
   "cell_type": "code",
   "execution_count": 7,
   "id": "60fd2a80-81be-41c8-8bf3-8a7c1491e4fb",
   "metadata": {},
   "outputs": [
    {
     "data": {
      "text/html": [
       "<div>\n",
       "<style scoped>\n",
       "    .dataframe tbody tr th:only-of-type {\n",
       "        vertical-align: middle;\n",
       "    }\n",
       "\n",
       "    .dataframe tbody tr th {\n",
       "        vertical-align: top;\n",
       "    }\n",
       "\n",
       "    .dataframe thead th {\n",
       "        text-align: right;\n",
       "    }\n",
       "</style>\n",
       "<table border=\"1\" class=\"dataframe\">\n",
       "  <thead>\n",
       "    <tr style=\"text-align: right;\">\n",
       "      <th></th>\n",
       "      <th>0</th>\n",
       "      <th>1</th>\n",
       "      <th>2</th>\n",
       "      <th>3</th>\n",
       "      <th>4</th>\n",
       "      <th>5</th>\n",
       "      <th>6</th>\n",
       "      <th>7</th>\n",
       "      <th>8</th>\n",
       "      <th>9</th>\n",
       "      <th>...</th>\n",
       "      <th>311</th>\n",
       "      <th>312</th>\n",
       "      <th>313</th>\n",
       "      <th>314</th>\n",
       "      <th>315</th>\n",
       "      <th>316</th>\n",
       "      <th>317</th>\n",
       "      <th>318</th>\n",
       "      <th>319</th>\n",
       "      <th>320</th>\n",
       "    </tr>\n",
       "  </thead>\n",
       "  <tbody>\n",
       "    <tr>\n",
       "      <th>0</th>\n",
       "      <td>14.0</td>\n",
       "      <td>69.0</td>\n",
       "      <td>234.0</td>\n",
       "      <td>415.0</td>\n",
       "      <td>215.0</td>\n",
       "      <td>1056.0</td>\n",
       "      <td>29.0</td>\n",
       "      <td>840.0</td>\n",
       "      <td>226.0</td>\n",
       "      <td>265.0</td>\n",
       "      <td>...</td>\n",
       "      <td>676.0</td>\n",
       "      <td>372.0</td>\n",
       "      <td>80100.0</td>\n",
       "      <td>4719.0</td>\n",
       "      <td>5002.0</td>\n",
       "      <td>48.0</td>\n",
       "      <td>38.0</td>\n",
       "      <td>1558.0</td>\n",
       "      <td>182.0</td>\n",
       "      <td>2162.0</td>\n",
       "    </tr>\n",
       "    <tr>\n",
       "      <th>1</th>\n",
       "      <td>18.0</td>\n",
       "      <td>92.0</td>\n",
       "      <td>312.0</td>\n",
       "      <td>556.0</td>\n",
       "      <td>292.0</td>\n",
       "      <td>1363.0</td>\n",
       "      <td>29.0</td>\n",
       "      <td>1102.0</td>\n",
       "      <td>271.0</td>\n",
       "      <td>340.0</td>\n",
       "      <td>...</td>\n",
       "      <td>805.0</td>\n",
       "      <td>452.0</td>\n",
       "      <td>95200.0</td>\n",
       "      <td>4643.0</td>\n",
       "      <td>6617.0</td>\n",
       "      <td>65.0</td>\n",
       "      <td>47.0</td>\n",
       "      <td>2177.0</td>\n",
       "      <td>253.0</td>\n",
       "      <td>2835.0</td>\n",
       "    </tr>\n",
       "    <tr>\n",
       "      <th>2</th>\n",
       "      <td>21.0</td>\n",
       "      <td>96.0</td>\n",
       "      <td>312.0</td>\n",
       "      <td>560.0</td>\n",
       "      <td>272.0</td>\n",
       "      <td>1240.0</td>\n",
       "      <td>29.0</td>\n",
       "      <td>1025.0</td>\n",
       "      <td>270.0</td>\n",
       "      <td>300.0</td>\n",
       "      <td>...</td>\n",
       "      <td>817.0</td>\n",
       "      <td>430.0</td>\n",
       "      <td>96600.0</td>\n",
       "      <td>4285.0</td>\n",
       "      <td>6571.0</td>\n",
       "      <td>64.0</td>\n",
       "      <td>43.0</td>\n",
       "      <td>2193.0</td>\n",
       "      <td>218.0</td>\n",
       "      <td>2764.0</td>\n",
       "    </tr>\n",
       "    <tr>\n",
       "      <th>3</th>\n",
       "      <td>20.0</td>\n",
       "      <td>92.0</td>\n",
       "      <td>312.0</td>\n",
       "      <td>443.0</td>\n",
       "      <td>213.0</td>\n",
       "      <td>845.0</td>\n",
       "      <td>24.0</td>\n",
       "      <td>833.0</td>\n",
       "      <td>179.0</td>\n",
       "      <td>211.0</td>\n",
       "      <td>...</td>\n",
       "      <td>801.0</td>\n",
       "      <td>291.0</td>\n",
       "      <td>94500.0</td>\n",
       "      <td>4222.0</td>\n",
       "      <td>6365.0</td>\n",
       "      <td>65.0</td>\n",
       "      <td>39.0</td>\n",
       "      <td>1315.0</td>\n",
       "      <td>195.0</td>\n",
       "      <td>2735.0</td>\n",
       "    </tr>\n",
       "    <tr>\n",
       "      <th>4</th>\n",
       "      <td>22.0</td>\n",
       "      <td>91.0</td>\n",
       "      <td>312.0</td>\n",
       "      <td>346.0</td>\n",
       "      <td>190.0</td>\n",
       "      <td>647.0</td>\n",
       "      <td>16.0</td>\n",
       "      <td>733.0</td>\n",
       "      <td>186.0</td>\n",
       "      <td>179.0</td>\n",
       "      <td>...</td>\n",
       "      <td>807.0</td>\n",
       "      <td>279.0</td>\n",
       "      <td>91300.0</td>\n",
       "      <td>4116.0</td>\n",
       "      <td>6298.0</td>\n",
       "      <td>75.0</td>\n",
       "      <td>40.0</td>\n",
       "      <td>1378.0</td>\n",
       "      <td>191.0</td>\n",
       "      <td>2721.0</td>\n",
       "    </tr>\n",
       "  </tbody>\n",
       "</table>\n",
       "<p>5 rows × 321 columns</p>\n",
       "</div>"
      ],
      "text/plain": [
       "    0     1      2      3      4       5     6       7      8      9    ...  \\\n",
       "0  14.0  69.0  234.0  415.0  215.0  1056.0  29.0   840.0  226.0  265.0  ...   \n",
       "1  18.0  92.0  312.0  556.0  292.0  1363.0  29.0  1102.0  271.0  340.0  ...   \n",
       "2  21.0  96.0  312.0  560.0  272.0  1240.0  29.0  1025.0  270.0  300.0  ...   \n",
       "3  20.0  92.0  312.0  443.0  213.0   845.0  24.0   833.0  179.0  211.0  ...   \n",
       "4  22.0  91.0  312.0  346.0  190.0   647.0  16.0   733.0  186.0  179.0  ...   \n",
       "\n",
       "     311    312      313     314     315   316   317     318    319     320  \n",
       "0  676.0  372.0  80100.0  4719.0  5002.0  48.0  38.0  1558.0  182.0  2162.0  \n",
       "1  805.0  452.0  95200.0  4643.0  6617.0  65.0  47.0  2177.0  253.0  2835.0  \n",
       "2  817.0  430.0  96600.0  4285.0  6571.0  64.0  43.0  2193.0  218.0  2764.0  \n",
       "3  801.0  291.0  94500.0  4222.0  6365.0  65.0  39.0  1315.0  195.0  2735.0  \n",
       "4  807.0  279.0  91300.0  4116.0  6298.0  75.0  40.0  1378.0  191.0  2721.0  \n",
       "\n",
       "[5 rows x 321 columns]"
      ]
     },
     "execution_count": 7,
     "metadata": {},
     "output_type": "execute_result"
    }
   ],
   "source": [
    "elec.head()"
   ]
  },
  {
   "cell_type": "markdown",
   "id": "f1f45ad9-bb0e-4ce0-a1f0-b755c8cdde3b",
   "metadata": {},
   "source": [
    "321地点の１時間毎の電力消費量データ。"
   ]
  },
  {
   "cell_type": "code",
   "execution_count": 8,
   "id": "eabde5ab-b199-48c5-b28d-77adeb538cab",
   "metadata": {},
   "outputs": [
    {
     "data": {
      "image/png": "[encoded data removed]",
      "text/plain": [
       "<Figure size 720x432 with 2 Axes>"
      ]
     },
     "metadata": {},
     "output_type": "display_data"
    }
   ],
   "source": [
    "ps = [3, 13, 113]\n",
    "\n",
    "fig = plt.figure(figsize=(10, 3*2))\n",
    "ax = fig.subplots(2, 1)\n",
    "\n",
    "for i, pos in enumerate(ps):\n",
    "    ax[0].plot(elec[pos][0:24*7], color=c_list[i]);\n",
    "    ax[1].plot(elec.diff()[pos][1:24*7], color=c_list[i]);\n",
    "ax[1].set_ylim(-350, 350);\n",
    "ax[0].set_ylabel(\"elec\");\n",
    "ax[1].set_ylabel(\"diff elec\");"
   ]
  },
  {
   "cell_type": "markdown",
   "id": "2b16994d-2a41-4aa1-bfc9-ed87991bcf76",
   "metadata": {},
   "source": [
    "### 問題設定\n",
    "\n",
    "- このデータに対して、３期先（３時間後）の電力消費量の差分を予測する。\n",
    "- 評価指標は予測値と目標値の相関\n",
    "- データは、時間的に古い順に、訓練、評価、テストに分割する"
   ]
  },
  {
   "cell_type": "markdown",
   "id": "a2c8104e-0b2e-4394-9b9f-ef368e55c783",
   "metadata": {},
   "source": [
    "実際の問題の場合には、この時点で地点間のそうかんの有無やトレンド成分などについての分析をしておくべき。\n",
    "だがここでは、とにかくモデリング作業に入る。\n",
    "\n",
    "学習プロセスを進めるにあたって、本書では大きく二つのパートに分けている。\n",
    "\n",
    "- 訓練用パイプラインの構築（10.3）\n",
    "  - データの整形、イテレータ構築、評価指標定義、全体の処理の統合（パイプライン構築）\n",
    "- 深層学習モデルの紹介、定義、学習、評価（10.4~10.10.7）\n",
    "  - full-connect, CNN, RNN, 従来モデルとの組み合わせ"
   ]
  },
  {
   "cell_type": "markdown",
   "id": "79e63f42-8278-4c85-bb31-8f683768c8ba",
   "metadata": {},
   "source": [
    "## 訓練用パイプラインの構築\n",
    "\n",
    "ここでは、上記の問題設定に対して予測モデルを構築していく作業に入るわけだが、最初は学習パイプラインを構築する。\n",
    "データの処理やモデルの外部出力、評価指標の定義を行う。\n",
    "\n",
    "notebook上では、上から順次流れていくため、構成要素全体を処理する部分は後で書くことにする。"
   ]
  },
  {
   "cell_type": "markdown",
   "id": "c078d770-05da-4f1f-9142-432371622829",
   "metadata": {},
   "source": [
    "### パラメータ定義\n",
    "\n",
    "パラメータを設定する。書籍ではコマンドライン引数になっていたが、ここでは固定パラメータとしてここで設定する。"
   ]
  },
  {
   "cell_type": "code",
   "execution_count": 9,
   "id": "fecd0690-f2ec-4e3a-8e85-6aa1e75f5c52",
   "metadata": {},
   "outputs": [],
   "source": [
    "DATA_SEGMENTS    = { 'tr': 0.6, 'va': 0.2, 'tst': 0.2} # 訓練、評価、テストのデータ割合の設定\n",
    "THRESHOLD_EPOCHS = 2            # \n",
    "COR_THRESHOLD    =  0.005       # \n",
    "\n",
    "WIN              = 24 ##* 7     # スライス窓幅（単位は時間）\n",
    "H                = 3            # horizon, 予測するステップ数\n",
    "\n",
    "# model details \n",
    "#MODEL            = 'rnn_model'  # 利用するモデル\n",
    "## CNNのパラメータ\n",
    "SZ_FILT          = 8            # CNNのカーネルサイズ\n",
    "N_FILT           = 10           # フィルタ数\n",
    "## RNNのパラメータ\n",
    "RNN_UNITS        = 10           # \n",
    "SEASONAL_PERIOD  = 24           # \n",
    "\n",
    "# training details\n",
    "BATCH_N          = 1024         # バッチサイズ\n",
    "LR               = 0.0001       # 学習率\n",
    "DROP             = 0.2          # Drop-out rate\n",
    "N_EPOCHS         = 30           # 学習Epoch数\n",
    "\n",
    "# data details\n",
    "DATA_FILE        = 'electricity.txt'\n",
    "SAVE_DIR         = \"out\""
   ]
  },
  {
   "cell_type": "markdown",
   "id": "b4dc0907-8373-4abc-a731-35f3494a3308",
   "metadata": {},
   "source": [
    "### 入力データの準備"
   ]
  },
  {
   "cell_type": "code",
   "execution_count": 10,
   "id": "3722a0dc-3b38-4cb8-a262-56f7e1d380de",
   "metadata": {},
   "outputs": [],
   "source": [
    "def diff_elec(data_file, periods=1):\n",
    "    \"\"\"データの前処理として、差分データを作成する\n",
    "    書籍では、diffをとった後の謎のCSVファイルが使われているが、そんなものないのでここで作る。\n",
    "    \n",
    "    Args:\n",
    "        data_file [string]: データファイルパス\n",
    "        periods [int, optional]: 差分を取る範囲, default=1\n",
    "    Returns:\n",
    "        [pandas.DataFrame]: \n",
    "    \"\"\"\n",
    "    df = pd.read_csv(data_file, sep=',', header=None)\n",
    "    ddf = df.diff(periods=periods)\n",
    "    return ddf.loc[periods:].reset_index(drop=True)"
   ]
  },
  {
   "cell_type": "code",
   "execution_count": 11,
   "id": "6918bae1-ba16-4382-accd-6495b56b666e",
   "metadata": {},
   "outputs": [],
   "source": [
    "def prepared_data(data_file, win, h, model_name):\n",
    "    \"\"\"データを読み込み、以下の前処理を行う\n",
    "    - 正規化（データ全体を使って平均0,標準偏差1）\n",
    "    - データの整形\n",
    "      - 学習用にデータの形式を変える\n",
    "      - ターゲットデータの作成\n",
    "    \"\"\"\n",
    "    df = diff_elec(data_file=data_file)\n",
    "    x  = df.iloc[:, :].values\n",
    "    x = (x - np.mean(x, axis = 0)) / (np.std(x, axis = 0)) ## 正規化(*1)\n",
    "    \n",
    "    if model_name == 'fc_model':\n",
    "        # NC形式でのデータ\n",
    "        X = np.hstack([x[1:-h], x[0:-(h+1)]])\n",
    "        Y = x[(h+1):]\n",
    "        return (X, Y)\n",
    "    else:\n",
    "        # NTCデータ形式\n",
    "        ## X shape = num examples * time win * num channels (NTC)\n",
    "        X = np.zeros((x.shape[0] - win - h, win, x.shape[1]))\n",
    "        ## Y shape = num examples * num channels\n",
    "        Y = np.zeros((x.shape[0] - win - h, x.shape[1]))\n",
    "        ## 以下、各時間でwin幅分抜き出して入力データxとしている\n",
    "        for i in range(win, x.shape[0] - h):\n",
    "            y_i = x[i + h - 1     , :] # 目標の値はhステップ先の値\n",
    "            x_i = x[(i - win) : i , :] # 入力データは直前のwinステップ\n",
    "            X[i-win] = x_i\n",
    "            Y[i-win] = y_i\n",
    "        return (X, Y)\n",
    "\n",
    "def prepare_iters(data_file, win, h, model, batch_n):\n",
    "    \"\"\"イテレータ\n",
    "    訓練データ、評価データ、テストデータについてのイテレータを生成する\n",
    "    \"\"\"\n",
    "    X, Y = prepared_data(data_file, win, h, model)\n",
    "\n",
    "    n_tr = int(Y.shape[0] * DATA_SEGMENTS['tr'])\n",
    "    n_va = int(Y.shape[0] * DATA_SEGMENTS['va'])\n",
    "\n",
    "    X_tr, X_valid, X_test = X[ : n_tr], X[n_tr : n_tr + n_va], X[n_tr + n_va : ]\n",
    "    Y_tr, Y_valid, Y_test = Y[ : n_tr], Y[n_tr : n_tr + n_va], Y[n_tr + n_va : ]\n",
    "    \n",
    "    iter_tr = mx.io.NDArrayIter(data = X_tr,\n",
    "                                label = Y_tr,\n",
    "                                batch_size = batch_n)\n",
    "    iter_val = mx.io.NDArrayIter(data = X_valid,\n",
    "                                 label = Y_valid,\n",
    "                                 batch_size = batch_n)\n",
    "    iter_test = mx.io.NDArrayIter(data = X_test,\n",
    "                                  label = Y_test,\n",
    "                                  batch_size = batch_n)\n",
    "    return (iter_tr, iter_val, iter_test)"
   ]
  },
  {
   "cell_type": "markdown",
   "id": "cc14b798-b2cf-4d68-9ae0-40a1afaaec8c",
   "metadata": {},
   "source": [
    "- *1: データの正規化。全データを使ってz-score化している\n",
    "  - 本来は、先読みを防ぐために学習データで正規化パラメータを作成するなどする必要がある"
   ]
  },
  {
   "cell_type": "markdown",
   "id": "bc3b7409-35ba-46ee-a317-b4a661117c18",
   "metadata": {},
   "source": [
    "#### 入力データの整形についての確認(NC形式)\n",
    "\n",
    "入力データXは、現時刻tと１ステップ前t-1となっている。\n",
    "Y(目的変数)は、Hステップ先を予測するので、xのt+Hが目的変数になる。\n",
    "\n",
    "ところで、なんで入力データは１期ステップ前だけなのだろう??winを設定しているのだからwin期使うのではないの？？"
   ]
  },
  {
   "cell_type": "code",
   "execution_count": 12,
   "id": "3cacef24-d866-4ba6-8d57-a435cbd3004e",
   "metadata": {},
   "outputs": [
    {
     "data": {
      "text/plain": [
       "(26299, 642)"
      ]
     },
     "metadata": {},
     "output_type": "display_data"
    },
    {
     "data": {
      "text/plain": [
       "(26299, 321)"
      ]
     },
     "metadata": {},
     "output_type": "display_data"
    }
   ],
   "source": [
    "X, Y = prepared_data(data_file=DATA_FILE, win=WIN, h=H, model_name='fc_model')\n",
    "display(X.shape)\n",
    "display(Y.shape)"
   ]
  },
  {
   "cell_type": "code",
   "execution_count": 13,
   "id": "4f48911e-4a45-4ebb-80e1-c90005ea0902",
   "metadata": {},
   "outputs": [
    {
     "data": {
      "text/plain": [
       "(26303, 321)"
      ]
     },
     "execution_count": 13,
     "metadata": {},
     "output_type": "execute_result"
    }
   ],
   "source": [
    "tmp = diff_elec(data_file=DATA_FILE)\n",
    "x_tmp = tmp.iloc[:, :].values\n",
    "x_tmp = (x_tmp - np.mean(x_tmp, axis = 0)) / (np.std(x_tmp, axis = 0))\n",
    "x_tmp.shape"
   ]
  },
  {
   "cell_type": "code",
   "execution_count": 14,
   "id": "edc4b2dd-0ce8-4daa-8aa8-09d99da984ec",
   "metadata": {},
   "outputs": [
    {
     "data": {
      "text/plain": [
       "array([ 3.06347754e-01,  3.70997705e-04,  5.52456171e-02, -7.06265147e-01,\n",
       "       -1.04713646e+00, -1.46982988e-04, -6.34592074e-01, -1.94949195e-02,\n",
       "       -7.50626884e-01])"
      ]
     },
     "metadata": {},
     "output_type": "display_data"
    },
    {
     "data": {
      "text/plain": [
       "array([ 3.06347754e-01,  3.70997705e-04,  5.52456171e-02, -7.06265147e-01,\n",
       "       -1.04713646e+00, -1.46982988e-04, -6.34592074e-01, -1.94949195e-02,\n",
       "       -7.50626884e-01])"
      ]
     },
     "metadata": {},
     "output_type": "display_data"
    }
   ],
   "source": [
    "display(X[0, 1:10])\n",
    "display(x_tmp[1, 1:10])"
   ]
  },
  {
   "cell_type": "code",
   "execution_count": 15,
   "id": "9c5cba6c-683a-43cc-bc23-6808d9a76104",
   "metadata": {},
   "outputs": [
    {
     "data": {
      "text/plain": [
       "array([ 1.76176242e+00,  3.36829801e+00,  1.95160764e+00,  2.71832661e+00,\n",
       "        2.61338311e+00, -1.46982988e-04,  2.15903375e+00,  8.76079684e-01,\n",
       "        1.40736593e+00])"
      ]
     },
     "metadata": {},
     "output_type": "display_data"
    },
    {
     "data": {
      "text/plain": [
       "array([ 1.76176242e+00,  3.36829801e+00,  1.95160764e+00,  2.71832661e+00,\n",
       "        2.61338311e+00, -1.46982988e-04,  2.15903375e+00,  8.76079684e-01,\n",
       "        1.40736593e+00])"
      ]
     },
     "metadata": {},
     "output_type": "display_data"
    }
   ],
   "source": [
    "display(X[0, 321+1:321+10])\n",
    "display(x_tmp[0, 1:10])"
   ]
  },
  {
   "cell_type": "markdown",
   "id": "3cfaec7b-a8c9-450c-a6b0-32a21b420f1b",
   "metadata": {},
   "source": [
    "#### 入力データの整形についての確認(NTC形式)\n",
    "\n",
    "Xの数は、窓幅(win)とHステップ分を減らした数。"
   ]
  },
  {
   "cell_type": "code",
   "execution_count": 16,
   "id": "13e94af4-0456-4d46-b265-34c0223f838a",
   "metadata": {},
   "outputs": [
    {
     "data": {
      "text/plain": [
       "(26276, 24, 321)"
      ]
     },
     "metadata": {},
     "output_type": "display_data"
    },
    {
     "data": {
      "text/plain": [
       "(26276, 321)"
      ]
     },
     "metadata": {},
     "output_type": "display_data"
    }
   ],
   "source": [
    "X, Y = prepared_data(data_file=DATA_FILE, win=WIN, h=H, model_name='not_fc_model')\n",
    "display(X.shape)\n",
    "display(Y.shape)"
   ]
  },
  {
   "cell_type": "code",
   "execution_count": 17,
   "id": "922c296a-2dea-422c-96fd-6937185dcd7f",
   "metadata": {},
   "outputs": [
    {
     "data": {
      "text/plain": [
       "array([-0.0766561 ,  7.85886737, -1.07980319, -1.44767161, -1.34508573,\n",
       "       -0.90981605, -0.38736855, -0.89560051, -1.08839967])"
      ]
     },
     "metadata": {},
     "output_type": "display_data"
    },
    {
     "data": {
      "text/plain": [
       "array([-0.0766561 ,  7.85886737, -1.07980319, -1.44767161, -1.34508573,\n",
       "       -0.90981605, -0.38736855, -0.89560051, -1.08839967])"
      ]
     },
     "metadata": {},
     "output_type": "display_data"
    }
   ],
   "source": [
    "display(Y[0, 1:10])\n",
    "display(x_tmp[WIN+H-1, 1:10])"
   ]
  },
  {
   "cell_type": "code",
   "execution_count": 18,
   "id": "181aeb14-9d92-4d83-89a9-34ec8d8f4116",
   "metadata": {},
   "outputs": [
    {
     "data": {
      "text/plain": [
       "array([ 3.20398873e-01,  2.40301439e-01, -8.00882989e-02,  1.60204004e-01,\n",
       "       -1.60185733e-01,  9.13554740e-06,  9.13554740e-06, -5.60672906e-01,\n",
       "       -1.60185733e-01,  4.24517316e+00, -8.81062643e-01, -2.16262159e+00,\n",
       "       -1.28154982e+00,  1.44176296e+00,  2.64322447e+00, -3.92476515e+00,\n",
       "        1.68205526e+00,  3.28400395e+00, -4.16505746e+00, -2.40283168e-01,\n",
       "        4.40536803e+00, -1.12135495e+00, -1.12135495e+00, -2.40291390e+00])"
      ]
     },
     "metadata": {},
     "output_type": "display_data"
    },
    {
     "data": {
      "text/plain": [
       "array([ 3.20398873e-01,  2.40301439e-01, -8.00882989e-02,  1.60204004e-01,\n",
       "       -1.60185733e-01,  9.13554740e-06,  9.13554740e-06, -5.60672906e-01,\n",
       "       -1.60185733e-01,  4.24517316e+00, -8.81062643e-01, -2.16262159e+00,\n",
       "       -1.28154982e+00,  1.44176296e+00,  2.64322447e+00, -3.92476515e+00,\n",
       "        1.68205526e+00,  3.28400395e+00, -4.16505746e+00, -2.40283168e-01,\n",
       "        4.40536803e+00, -1.12135495e+00, -1.12135495e+00, -2.40291390e+00])"
      ]
     },
     "metadata": {},
     "output_type": "display_data"
    }
   ],
   "source": [
    "t = 0\n",
    "c = 0\n",
    "display(X[t, :, c]) # 時刻tでのWin幅分でCチャネルのデータ\n",
    "display(x_tmp[t:t+WIN, c])"
   ]
  },
  {
   "cell_type": "markdown",
   "id": "479cf38e-e28e-4db5-95de-f6ebce64ba2c",
   "metadata": {},
   "source": [
    "### 評価指標\n",
    "\n",
    "目標値と予測値の相関を評価指標とする。"
   ]
  },
  {
   "cell_type": "code",
   "execution_count": 19,
   "id": "13308387-025a-47e5-a3e5-22f5bed76c19",
   "metadata": {},
   "outputs": [],
   "source": [
    "def evaluate_and_write(pred, label, save_dir, mode, epoch):\n",
    "    \"\"\"評価結果(相関)と目標値と予測値の生の値を保存する\n",
    "    \"\"\"\n",
    "    if not os.path.exists(save_dir):\n",
    "        os.makedirs(save_dir)\n",
    "    pred_df = pd.DataFrame(pred)\n",
    "    label_df = pd.DataFrame(label)\n",
    "    pred_df.to_csv(os.path.join(save_dir, '%s_pred%d.csv'%(mode, epoch)))\n",
    "    label_df.to_csv(os.path.join(save_dir, '%s_label%d.csv'%(mode, epoch)))\n",
    "    \n",
    "    return {\"COR\": COR(label, pred)}\n",
    "\n",
    "def COR(label, pred):\n",
    "    label_demand = label - label.mean(0)\n",
    "    label_sumsquares = np.sum(np.square(label_demand), 0)\n",
    "    \n",
    "    pred_demand = pred - pred.mean(0)\n",
    "    pred_sumsquares = np.sum(np.square(pred_demand), 0)\n",
    "    \n",
    "    cor_coef = np.diagonal(\n",
    "        np.dot(label_demand.T, pred_demand)\n",
    "    ) / np.sqrt(\n",
    "        label_sumsquares * pred_sumsquares\n",
    "    )\n",
    "    \n",
    "    return np.nanmean(cor_coef)"
   ]
  },
  {
   "cell_type": "markdown",
   "id": "c915ec5e-ed7e-4610-ae0b-d16817cb914b",
   "metadata": {},
   "source": [
    "### 訓練パラメータの設定と記録管理システム"
   ]
  },
  {
   "cell_type": "code",
   "execution_count": 20,
   "id": "092b0682-b743-4493-ab77-aafa14db9dce",
   "metadata": {},
   "outputs": [],
   "source": [
    "class RingBuffer:\n",
    "    def __init__(self, size):\n",
    "        self.data = [0 for i in range(size)]\n",
    "\n",
    "    def append(self, x):\n",
    "        self.data.pop(0)\n",
    "        self.data.append(x)\n",
    "\n",
    "    def get(self):\n",
    "        return self.data"
   ]
  },
  {
   "cell_type": "code",
   "execution_count": 21,
   "id": "3d47653d-ebec-4726-9f1f-3414266fac0b",
   "metadata": {
    "tags": []
   },
   "outputs": [],
   "source": [
    "def train(symbol, iter_train, valid_iter, iter_test, data_names, label_names, save_dir, gpu=0):\n",
    "    \"\"\"訓練用パイプライン\n",
    "    \n",
    "    Args:\n",
    "        symbol (mxnet.symbol.Symbol): mxnet形式の計算グラフ\n",
    "        iter_train (): \n",
    "        valid_iter (): \n",
    "        iter_test (): \n",
    "        data_names (list or str): data name ??\n",
    "        label_names (list or str): label name ??\n",
    "        save_dir (): \n",
    "        gpu (): \n",
    "    \"\"\"\n",
    "    # save training information/results\n",
    "    if not os.path.exists(SAVE_DIR):\n",
    "        os.makedirs(SAVE_DIR)\n",
    "    printFile = open(os.path.join(SAVE_DIR, 'log.txt'), 'w')\n",
    "    def print_to_file(msg):\n",
    "        print(msg)\n",
    "        print(msg, file = printFile, flush = True)\n",
    "    ## ログのヘッダを出力\n",
    "    print_to_file('Epoch     Training Cor     Validation Cor')\n",
    "\n",
    "    # 学習の早期打ち切りを判定するために、評価値のバッファを作成\n",
    "    buf = RingBuffer(THRESHOLD_EPOCHS)\n",
    "    old_val = None\n",
    "\n",
    "    # mxnet 定型コード\n",
    "    ##devs = [mx.gpu(gpu)] # GPUを使うときはこんな感じに書くらしい\n",
    "    devs   = mx.cpu() # CPU環境のときはこんな感じ\n",
    "    module = mx.mod.Module(symbol,\n",
    "                           data_names=data_names,\n",
    "                           label_names=label_names,\n",
    "                           context=devs) # ニューラルネットワークの計算グラフを作成する\n",
    "    module.bind(data_shapes=iter_train.provide_data,\n",
    "                label_shapes=iter_train.provide_label) # データの形式を設定(定型?)\n",
    "    module.init_params(mx.initializer.Uniform(0.1))  # 重みの初期化\n",
    "    module.init_optimizer(optimizer='adam',\n",
    "                          optimizer_params={'learning_rate': LR}) # Optimizerの初期化\n",
    "\n",
    "    # training\n",
    "    for epoch in range(N_EPOCHS):\n",
    "        iter_train.reset()\n",
    "        iter_val.reset()\n",
    "        for batch in iter_train:\n",
    "            module.forward(batch, is_train=True) # compute predictions\n",
    "            module.backward()                    # compute gradients\n",
    "            module.update()                      # update parameters\n",
    "\n",
    "        ## training results\n",
    "        train_pred  = module.predict(iter_train).asnumpy()\n",
    "        train_label = iter_train.label[0][1].asnumpy()\n",
    "        train_perf  = evaluate_and_write(\n",
    "            train_pred, train_label, save_dir, \"train\", epoch\n",
    "        )\n",
    "\n",
    "        ## validation results\n",
    "        val_pred  = module.predict(iter_val).asnumpy()\n",
    "        val_label = iter_val.label[0][1].asnumpy()\n",
    "        val_perf  = evaluate_and_write(\n",
    "            val_pred, val_label, save_dir, \"valid\", epoch\n",
    "        )\n",
    "\n",
    "        ## ログのファイル出力\n",
    "        print_to_file('%d         %f       %f ' % (epoch, train_perf['COR'], val_perf['COR']))\n",
    "        \n",
    "        # 早期打ち切りの確認\n",
    "        if epoch > 0: # バッファに記録する（初回は飛ばす）\n",
    "            buf.append(val_perf['COR'] - old_val) \n",
    "        if epoch > 2:\n",
    "            vals = buf.get()\n",
    "            # print(vals)\n",
    "            # print(COR_THRESHOLD)\n",
    "            vals = [v for v in vals if v != 0]\n",
    "            if sum([v < COR_THRESHOLD for v in vals]) == len(vals):\n",
    "                print_to_file('EARLY EXIT')\n",
    "                break\n",
    "        old_val = val_perf['COR']\n",
    "                \n",
    "    ## testing\n",
    "    test_pred  = module.predict(iter_test).asnumpy()\n",
    "    test_label = iter_test.label[0][1].asnumpy()\n",
    "    test_perf = perf.write_eval(test_pred, test_label, save_dir, 'tst', epoch)\n",
    "    print_to_file('\\n TESTING PERFORMANCE')\n",
    "    print_to_file(test_perf)"
   ]
  },
  {
   "cell_type": "markdown",
   "id": "c923a2a4-2b77-45e7-b048-b114b880b33e",
   "metadata": {},
   "source": [
    "## 予測モデル1: フィードフォワードネットワーク(full-connected network)\n",
    "\n",
    "- full-connect ネットワークを実装する\n",
    "- これは時系列を想定して構築されたわけではない\n",
    "- しかし、ベースラインとしていくつか有効なポイントがある\n",
    "  - 高速\n",
    "  - 時間的な構造を明に仮定する必要があるのかのテストになる"
   ]
  },
  {
   "cell_type": "code",
   "execution_count": 22,
   "id": "b0b2151b-518a-4939-8507-058c81d34d08",
   "metadata": {},
   "outputs": [],
   "source": [
    "def fc_model(iter_train, input_feature_shape, X, Y,\n",
    "             win, sz_filt, n_filter, drop, seasonal_period):\n",
    "    \"\"\"FullConnected network\n",
    "    3層構造。\n",
    "    中間層の活性化関数はrelu。\n",
    "    最終層は恒等写像(変化量の予測なので)。\n",
    "    恒等写像なので、lossは二乗誤差。\n",
    "    \"\"\"\n",
    "    output = mx.sym.FullyConnected(data=X, num_hidden=20)\n",
    "    output = mx.sym.Activation(output, act_type = 'relu')\n",
    "    output = mx.sym.FullyConnected(data=output, num_hidden=10)\n",
    "    output = mx.sym.Activation(output, act_type = 'relu')\n",
    "    output = mx.sym.FullyConnected(data=output, num_hidden=321)\n",
    "    \n",
    "    loss_grad = mx.sym.LinearRegressionOutput(data=output, label=Y)\n",
    "    return (loss_grad,\n",
    "            [v.name for v in iter_train.provide_data],\n",
    "            [v.name for v in iter_train.provide_label])"
   ]
  },
  {
   "cell_type": "markdown",
   "id": "c792ad8f-22fa-4115-a4c2-70341a1fa330",
   "metadata": {},
   "source": [
    "訓練の実施\n",
    "\n",
    "GPU使わないと全然学習が進まんな、、、。パラメータ数が多いからね。"
   ]
  },
  {
   "cell_type": "code",
   "execution_count": 23,
   "id": "53c9fce5-52f3-4518-8322-51026bd859ea",
   "metadata": {
    "collapsed": true,
    "jupyter": {
     "outputs_hidden": true
    },
    "tags": []
   },
   "outputs": [
    {
     "name": "stdout",
     "output_type": "stream",
     "text": [
      "Epoch     Training Cor     Validation Cor\n"
     ]
    },
    {
     "name": "stderr",
     "output_type": "stream",
     "text": [
      "[07:24:50] ../src/executor/graph_executor.cc:1991: Subgraph backend MKLDNN is activated.\n"
     ]
    },
    {
     "name": "stdout",
     "output_type": "stream",
     "text": [
      "0         0.006548       0.005139 \n",
      "1         0.018789       0.016230 \n"
     ]
    },
    {
     "ename": "KeyboardInterrupt",
     "evalue": "",
     "output_type": "error",
     "traceback": [
      "\u001b[0;31m---------------------------------------------------------------------------\u001b[0m",
      "\u001b[0;31mKeyboardInterrupt\u001b[0m                         Traceback (most recent call last)",
      "\u001b[0;32m/tmp/ipykernel_440/1376536476.py\u001b[0m in \u001b[0;36m<module>\u001b[0;34m\u001b[0m\n\u001b[1;32m     25\u001b[0m \u001b[0;34m\u001b[0m\u001b[0m\n\u001b[1;32m     26\u001b[0m \u001b[0;31m## train\u001b[0m\u001b[0;34m\u001b[0m\u001b[0;34m\u001b[0m\u001b[0;34m\u001b[0m\u001b[0m\n\u001b[0;32m---> 27\u001b[0;31m \u001b[0mtrain\u001b[0m\u001b[0;34m(\u001b[0m\u001b[0msymbol\u001b[0m\u001b[0;34m,\u001b[0m \u001b[0miter_train\u001b[0m\u001b[0;34m,\u001b[0m \u001b[0miter_val\u001b[0m\u001b[0;34m,\u001b[0m \u001b[0miter_test\u001b[0m\u001b[0;34m,\u001b[0m \u001b[0mdata_names\u001b[0m\u001b[0;34m,\u001b[0m \u001b[0mlabel_names\u001b[0m\u001b[0;34m,\u001b[0m \u001b[0mSAVE_DIR\u001b[0m\u001b[0;34m)\u001b[0m\u001b[0;34m\u001b[0m\u001b[0;34m\u001b[0m\u001b[0m\n\u001b[0m",
      "\u001b[0;32m/tmp/ipykernel_440/1295507539.py\u001b[0m in \u001b[0;36mtrain\u001b[0;34m(symbol, iter_train, valid_iter, iter_test, data_names, label_names, save_dir, gpu)\u001b[0m\n\u001b[1;32m     51\u001b[0m         \u001b[0mtrain_pred\u001b[0m  \u001b[0;34m=\u001b[0m \u001b[0mmodule\u001b[0m\u001b[0;34m.\u001b[0m\u001b[0mpredict\u001b[0m\u001b[0;34m(\u001b[0m\u001b[0miter_train\u001b[0m\u001b[0;34m)\u001b[0m\u001b[0;34m.\u001b[0m\u001b[0masnumpy\u001b[0m\u001b[0;34m(\u001b[0m\u001b[0;34m)\u001b[0m\u001b[0;34m\u001b[0m\u001b[0;34m\u001b[0m\u001b[0m\n\u001b[1;32m     52\u001b[0m         \u001b[0mtrain_label\u001b[0m \u001b[0;34m=\u001b[0m \u001b[0miter_train\u001b[0m\u001b[0;34m.\u001b[0m\u001b[0mlabel\u001b[0m\u001b[0;34m[\u001b[0m\u001b[0;36m0\u001b[0m\u001b[0;34m]\u001b[0m\u001b[0;34m[\u001b[0m\u001b[0;36m1\u001b[0m\u001b[0;34m]\u001b[0m\u001b[0;34m.\u001b[0m\u001b[0masnumpy\u001b[0m\u001b[0;34m(\u001b[0m\u001b[0;34m)\u001b[0m\u001b[0;34m\u001b[0m\u001b[0;34m\u001b[0m\u001b[0m\n\u001b[0;32m---> 53\u001b[0;31m         train_perf  = evaluate_and_write(\n\u001b[0m\u001b[1;32m     54\u001b[0m             \u001b[0mtrain_pred\u001b[0m\u001b[0;34m,\u001b[0m \u001b[0mtrain_label\u001b[0m\u001b[0;34m,\u001b[0m \u001b[0msave_dir\u001b[0m\u001b[0;34m,\u001b[0m \u001b[0;34m\"train\"\u001b[0m\u001b[0;34m,\u001b[0m \u001b[0mepoch\u001b[0m\u001b[0;34m\u001b[0m\u001b[0;34m\u001b[0m\u001b[0m\n\u001b[1;32m     55\u001b[0m         )\n",
      "\u001b[0;32m/tmp/ipykernel_440/1193110054.py\u001b[0m in \u001b[0;36mevaluate_and_write\u001b[0;34m(pred, label, save_dir, mode, epoch)\u001b[0m\n\u001b[1;32m      6\u001b[0m     \u001b[0mpred_df\u001b[0m \u001b[0;34m=\u001b[0m \u001b[0mpd\u001b[0m\u001b[0;34m.\u001b[0m\u001b[0mDataFrame\u001b[0m\u001b[0;34m(\u001b[0m\u001b[0mpred\u001b[0m\u001b[0;34m)\u001b[0m\u001b[0;34m\u001b[0m\u001b[0;34m\u001b[0m\u001b[0m\n\u001b[1;32m      7\u001b[0m     \u001b[0mlabel_df\u001b[0m \u001b[0;34m=\u001b[0m \u001b[0mpd\u001b[0m\u001b[0;34m.\u001b[0m\u001b[0mDataFrame\u001b[0m\u001b[0;34m(\u001b[0m\u001b[0mlabel\u001b[0m\u001b[0;34m)\u001b[0m\u001b[0;34m\u001b[0m\u001b[0;34m\u001b[0m\u001b[0m\n\u001b[0;32m----> 8\u001b[0;31m     \u001b[0mpred_df\u001b[0m\u001b[0;34m.\u001b[0m\u001b[0mto_csv\u001b[0m\u001b[0;34m(\u001b[0m\u001b[0mos\u001b[0m\u001b[0;34m.\u001b[0m\u001b[0mpath\u001b[0m\u001b[0;34m.\u001b[0m\u001b[0mjoin\u001b[0m\u001b[0;34m(\u001b[0m\u001b[0msave_dir\u001b[0m\u001b[0;34m,\u001b[0m \u001b[0;34m'%s_pred%d.csv'\u001b[0m\u001b[0;34m%\u001b[0m\u001b[0;34m(\u001b[0m\u001b[0mmode\u001b[0m\u001b[0;34m,\u001b[0m \u001b[0mepoch\u001b[0m\u001b[0;34m)\u001b[0m\u001b[0;34m)\u001b[0m\u001b[0;34m)\u001b[0m\u001b[0;34m\u001b[0m\u001b[0;34m\u001b[0m\u001b[0m\n\u001b[0m\u001b[1;32m      9\u001b[0m     \u001b[0mlabel_df\u001b[0m\u001b[0;34m.\u001b[0m\u001b[0mto_csv\u001b[0m\u001b[0;34m(\u001b[0m\u001b[0mos\u001b[0m\u001b[0;34m.\u001b[0m\u001b[0mpath\u001b[0m\u001b[0;34m.\u001b[0m\u001b[0mjoin\u001b[0m\u001b[0;34m(\u001b[0m\u001b[0msave_dir\u001b[0m\u001b[0;34m,\u001b[0m \u001b[0;34m'%s_label%d.csv'\u001b[0m\u001b[0;34m%\u001b[0m\u001b[0;34m(\u001b[0m\u001b[0mmode\u001b[0m\u001b[0;34m,\u001b[0m \u001b[0mepoch\u001b[0m\u001b[0;34m)\u001b[0m\u001b[0;34m)\u001b[0m\u001b[0;34m)\u001b[0m\u001b[0;34m\u001b[0m\u001b[0;34m\u001b[0m\u001b[0m\n\u001b[1;32m     10\u001b[0m \u001b[0;34m\u001b[0m\u001b[0m\n",
      "\u001b[0;32m/opt/conda/lib/python3.9/site-packages/pandas/core/generic.py\u001b[0m in \u001b[0;36mto_csv\u001b[0;34m(self, path_or_buf, sep, na_rep, float_format, columns, header, index, index_label, mode, encoding, compression, quoting, quotechar, line_terminator, chunksize, date_format, doublequote, escapechar, decimal, errors, storage_options)\u001b[0m\n\u001b[1;32m   3461\u001b[0m         )\n\u001b[1;32m   3462\u001b[0m \u001b[0;34m\u001b[0m\u001b[0m\n\u001b[0;32m-> 3463\u001b[0;31m         return DataFrameRenderer(formatter).to_csv(\n\u001b[0m\u001b[1;32m   3464\u001b[0m             \u001b[0mpath_or_buf\u001b[0m\u001b[0;34m,\u001b[0m\u001b[0;34m\u001b[0m\u001b[0;34m\u001b[0m\u001b[0m\n\u001b[1;32m   3465\u001b[0m             \u001b[0mline_terminator\u001b[0m\u001b[0;34m=\u001b[0m\u001b[0mline_terminator\u001b[0m\u001b[0;34m,\u001b[0m\u001b[0;34m\u001b[0m\u001b[0;34m\u001b[0m\u001b[0m\n",
      "\u001b[0;32m/opt/conda/lib/python3.9/site-packages/pandas/io/formats/format.py\u001b[0m in \u001b[0;36mto_csv\u001b[0;34m(self, path_or_buf, encoding, sep, columns, index_label, mode, compression, quoting, quotechar, line_terminator, chunksize, date_format, doublequote, escapechar, errors, storage_options)\u001b[0m\n\u001b[1;32m   1103\u001b[0m             \u001b[0mformatter\u001b[0m\u001b[0;34m=\u001b[0m\u001b[0mself\u001b[0m\u001b[0;34m.\u001b[0m\u001b[0mfmt\u001b[0m\u001b[0;34m,\u001b[0m\u001b[0;34m\u001b[0m\u001b[0;34m\u001b[0m\u001b[0m\n\u001b[1;32m   1104\u001b[0m         )\n\u001b[0;32m-> 1105\u001b[0;31m         \u001b[0mcsv_formatter\u001b[0m\u001b[0;34m.\u001b[0m\u001b[0msave\u001b[0m\u001b[0;34m(\u001b[0m\u001b[0;34m)\u001b[0m\u001b[0;34m\u001b[0m\u001b[0;34m\u001b[0m\u001b[0m\n\u001b[0m\u001b[1;32m   1106\u001b[0m \u001b[0;34m\u001b[0m\u001b[0m\n\u001b[1;32m   1107\u001b[0m         \u001b[0;32mif\u001b[0m \u001b[0mcreated_buffer\u001b[0m\u001b[0;34m:\u001b[0m\u001b[0;34m\u001b[0m\u001b[0;34m\u001b[0m\u001b[0m\n",
      "\u001b[0;32m/opt/conda/lib/python3.9/site-packages/pandas/io/formats/csvs.py\u001b[0m in \u001b[0;36msave\u001b[0;34m(self)\u001b[0m\n\u001b[1;32m    255\u001b[0m             )\n\u001b[1;32m    256\u001b[0m \u001b[0;34m\u001b[0m\u001b[0m\n\u001b[0;32m--> 257\u001b[0;31m             \u001b[0mself\u001b[0m\u001b[0;34m.\u001b[0m\u001b[0m_save\u001b[0m\u001b[0;34m(\u001b[0m\u001b[0;34m)\u001b[0m\u001b[0;34m\u001b[0m\u001b[0;34m\u001b[0m\u001b[0m\n\u001b[0m\u001b[1;32m    258\u001b[0m \u001b[0;34m\u001b[0m\u001b[0m\n\u001b[1;32m    259\u001b[0m     \u001b[0;32mdef\u001b[0m \u001b[0m_save\u001b[0m\u001b[0;34m(\u001b[0m\u001b[0mself\u001b[0m\u001b[0;34m)\u001b[0m \u001b[0;34m->\u001b[0m \u001b[0;32mNone\u001b[0m\u001b[0;34m:\u001b[0m\u001b[0;34m\u001b[0m\u001b[0;34m\u001b[0m\u001b[0m\n",
      "\u001b[0;32m/opt/conda/lib/python3.9/site-packages/pandas/io/formats/csvs.py\u001b[0m in \u001b[0;36m_save\u001b[0;34m(self)\u001b[0m\n\u001b[1;32m    260\u001b[0m         \u001b[0;32mif\u001b[0m \u001b[0mself\u001b[0m\u001b[0;34m.\u001b[0m\u001b[0m_need_to_save_header\u001b[0m\u001b[0;34m:\u001b[0m\u001b[0;34m\u001b[0m\u001b[0;34m\u001b[0m\u001b[0m\n\u001b[1;32m    261\u001b[0m             \u001b[0mself\u001b[0m\u001b[0;34m.\u001b[0m\u001b[0m_save_header\u001b[0m\u001b[0;34m(\u001b[0m\u001b[0;34m)\u001b[0m\u001b[0;34m\u001b[0m\u001b[0;34m\u001b[0m\u001b[0m\n\u001b[0;32m--> 262\u001b[0;31m         \u001b[0mself\u001b[0m\u001b[0;34m.\u001b[0m\u001b[0m_save_body\u001b[0m\u001b[0;34m(\u001b[0m\u001b[0;34m)\u001b[0m\u001b[0;34m\u001b[0m\u001b[0;34m\u001b[0m\u001b[0m\n\u001b[0m\u001b[1;32m    263\u001b[0m \u001b[0;34m\u001b[0m\u001b[0m\n\u001b[1;32m    264\u001b[0m     \u001b[0;32mdef\u001b[0m \u001b[0m_save_header\u001b[0m\u001b[0;34m(\u001b[0m\u001b[0mself\u001b[0m\u001b[0;34m)\u001b[0m \u001b[0;34m->\u001b[0m \u001b[0;32mNone\u001b[0m\u001b[0;34m:\u001b[0m\u001b[0;34m\u001b[0m\u001b[0;34m\u001b[0m\u001b[0m\n",
      "\u001b[0;32m/opt/conda/lib/python3.9/site-packages/pandas/io/formats/csvs.py\u001b[0m in \u001b[0;36m_save_body\u001b[0;34m(self)\u001b[0m\n\u001b[1;32m    298\u001b[0m             \u001b[0;32mif\u001b[0m \u001b[0mstart_i\u001b[0m \u001b[0;34m>=\u001b[0m \u001b[0mend_i\u001b[0m\u001b[0;34m:\u001b[0m\u001b[0;34m\u001b[0m\u001b[0;34m\u001b[0m\u001b[0m\n\u001b[1;32m    299\u001b[0m                 \u001b[0;32mbreak\u001b[0m\u001b[0;34m\u001b[0m\u001b[0;34m\u001b[0m\u001b[0m\n\u001b[0;32m--> 300\u001b[0;31m             \u001b[0mself\u001b[0m\u001b[0;34m.\u001b[0m\u001b[0m_save_chunk\u001b[0m\u001b[0;34m(\u001b[0m\u001b[0mstart_i\u001b[0m\u001b[0;34m,\u001b[0m \u001b[0mend_i\u001b[0m\u001b[0;34m)\u001b[0m\u001b[0;34m\u001b[0m\u001b[0;34m\u001b[0m\u001b[0m\n\u001b[0m\u001b[1;32m    301\u001b[0m \u001b[0;34m\u001b[0m\u001b[0m\n\u001b[1;32m    302\u001b[0m     \u001b[0;32mdef\u001b[0m \u001b[0m_save_chunk\u001b[0m\u001b[0;34m(\u001b[0m\u001b[0mself\u001b[0m\u001b[0;34m,\u001b[0m \u001b[0mstart_i\u001b[0m\u001b[0;34m:\u001b[0m \u001b[0mint\u001b[0m\u001b[0;34m,\u001b[0m \u001b[0mend_i\u001b[0m\u001b[0;34m:\u001b[0m \u001b[0mint\u001b[0m\u001b[0;34m)\u001b[0m \u001b[0;34m->\u001b[0m \u001b[0;32mNone\u001b[0m\u001b[0;34m:\u001b[0m\u001b[0;34m\u001b[0m\u001b[0;34m\u001b[0m\u001b[0m\n",
      "\u001b[0;32m/opt/conda/lib/python3.9/site-packages/pandas/io/formats/csvs.py\u001b[0m in \u001b[0;36m_save_chunk\u001b[0;34m(self, start_i, end_i)\u001b[0m\n\u001b[1;32m    305\u001b[0m         \u001b[0mdf\u001b[0m \u001b[0;34m=\u001b[0m \u001b[0mself\u001b[0m\u001b[0;34m.\u001b[0m\u001b[0mobj\u001b[0m\u001b[0;34m.\u001b[0m\u001b[0miloc\u001b[0m\u001b[0;34m[\u001b[0m\u001b[0mslicer\u001b[0m\u001b[0;34m]\u001b[0m\u001b[0;34m\u001b[0m\u001b[0;34m\u001b[0m\u001b[0m\n\u001b[1;32m    306\u001b[0m \u001b[0;34m\u001b[0m\u001b[0m\n\u001b[0;32m--> 307\u001b[0;31m         \u001b[0mres\u001b[0m \u001b[0;34m=\u001b[0m \u001b[0mdf\u001b[0m\u001b[0;34m.\u001b[0m\u001b[0m_mgr\u001b[0m\u001b[0;34m.\u001b[0m\u001b[0mto_native_types\u001b[0m\u001b[0;34m(\u001b[0m\u001b[0;34m**\u001b[0m\u001b[0mself\u001b[0m\u001b[0;34m.\u001b[0m\u001b[0m_number_format\u001b[0m\u001b[0;34m)\u001b[0m\u001b[0;34m\u001b[0m\u001b[0;34m\u001b[0m\u001b[0m\n\u001b[0m\u001b[1;32m    308\u001b[0m         \u001b[0mdata\u001b[0m \u001b[0;34m=\u001b[0m \u001b[0;34m[\u001b[0m\u001b[0mres\u001b[0m\u001b[0;34m.\u001b[0m\u001b[0miget_values\u001b[0m\u001b[0;34m(\u001b[0m\u001b[0mi\u001b[0m\u001b[0;34m)\u001b[0m \u001b[0;32mfor\u001b[0m \u001b[0mi\u001b[0m \u001b[0;32min\u001b[0m \u001b[0mrange\u001b[0m\u001b[0;34m(\u001b[0m\u001b[0mlen\u001b[0m\u001b[0;34m(\u001b[0m\u001b[0mres\u001b[0m\u001b[0;34m.\u001b[0m\u001b[0mitems\u001b[0m\u001b[0;34m)\u001b[0m\u001b[0;34m)\u001b[0m\u001b[0;34m]\u001b[0m\u001b[0;34m\u001b[0m\u001b[0;34m\u001b[0m\u001b[0m\n\u001b[1;32m    309\u001b[0m \u001b[0;34m\u001b[0m\u001b[0m\n",
      "\u001b[0;32m/opt/conda/lib/python3.9/site-packages/pandas/core/internals/managers.py\u001b[0m in \u001b[0;36mto_native_types\u001b[0;34m(self, **kwargs)\u001b[0m\n\u001b[1;32m    460\u001b[0m         \u001b[0;32min\u001b[0m \u001b[0mformatting\u001b[0m \u001b[0;34m(\u001b[0m\u001b[0mrepr\u001b[0m \u001b[0;34m/\u001b[0m \u001b[0mcsv\u001b[0m\u001b[0;34m)\u001b[0m\u001b[0;34m.\u001b[0m\u001b[0;34m\u001b[0m\u001b[0;34m\u001b[0m\u001b[0m\n\u001b[1;32m    461\u001b[0m         \"\"\"\n\u001b[0;32m--> 462\u001b[0;31m         \u001b[0;32mreturn\u001b[0m \u001b[0mself\u001b[0m\u001b[0;34m.\u001b[0m\u001b[0mapply\u001b[0m\u001b[0;34m(\u001b[0m\u001b[0;34m\"to_native_types\"\u001b[0m\u001b[0;34m,\u001b[0m \u001b[0;34m**\u001b[0m\u001b[0mkwargs\u001b[0m\u001b[0;34m)\u001b[0m\u001b[0;34m\u001b[0m\u001b[0;34m\u001b[0m\u001b[0m\n\u001b[0m\u001b[1;32m    463\u001b[0m \u001b[0;34m\u001b[0m\u001b[0m\n\u001b[1;32m    464\u001b[0m     \u001b[0;32mdef\u001b[0m \u001b[0mis_consolidated\u001b[0m\u001b[0;34m(\u001b[0m\u001b[0mself\u001b[0m\u001b[0;34m)\u001b[0m \u001b[0;34m->\u001b[0m \u001b[0mbool\u001b[0m\u001b[0;34m:\u001b[0m\u001b[0;34m\u001b[0m\u001b[0;34m\u001b[0m\u001b[0m\n",
      "\u001b[0;32m/opt/conda/lib/python3.9/site-packages/pandas/core/internals/managers.py\u001b[0m in \u001b[0;36mapply\u001b[0;34m(self, f, align_keys, ignore_failures, **kwargs)\u001b[0m\n\u001b[1;32m    325\u001b[0m                     \u001b[0mapplied\u001b[0m \u001b[0;34m=\u001b[0m \u001b[0mb\u001b[0m\u001b[0;34m.\u001b[0m\u001b[0mapply\u001b[0m\u001b[0;34m(\u001b[0m\u001b[0mf\u001b[0m\u001b[0;34m,\u001b[0m \u001b[0;34m**\u001b[0m\u001b[0mkwargs\u001b[0m\u001b[0;34m)\u001b[0m\u001b[0;34m\u001b[0m\u001b[0;34m\u001b[0m\u001b[0m\n\u001b[1;32m    326\u001b[0m                 \u001b[0;32melse\u001b[0m\u001b[0;34m:\u001b[0m\u001b[0;34m\u001b[0m\u001b[0;34m\u001b[0m\u001b[0m\n\u001b[0;32m--> 327\u001b[0;31m                     \u001b[0mapplied\u001b[0m \u001b[0;34m=\u001b[0m \u001b[0mgetattr\u001b[0m\u001b[0;34m(\u001b[0m\u001b[0mb\u001b[0m\u001b[0;34m,\u001b[0m \u001b[0mf\u001b[0m\u001b[0;34m)\u001b[0m\u001b[0;34m(\u001b[0m\u001b[0;34m**\u001b[0m\u001b[0mkwargs\u001b[0m\u001b[0;34m)\u001b[0m\u001b[0;34m\u001b[0m\u001b[0;34m\u001b[0m\u001b[0m\n\u001b[0m\u001b[1;32m    328\u001b[0m             \u001b[0;32mexcept\u001b[0m \u001b[0;34m(\u001b[0m\u001b[0mTypeError\u001b[0m\u001b[0;34m,\u001b[0m \u001b[0mNotImplementedError\u001b[0m\u001b[0;34m)\u001b[0m\u001b[0;34m:\u001b[0m\u001b[0;34m\u001b[0m\u001b[0;34m\u001b[0m\u001b[0m\n\u001b[1;32m    329\u001b[0m                 \u001b[0;32mif\u001b[0m \u001b[0;32mnot\u001b[0m \u001b[0mignore_failures\u001b[0m\u001b[0;34m:\u001b[0m\u001b[0;34m\u001b[0m\u001b[0;34m\u001b[0m\u001b[0m\n",
      "\u001b[0;32m/opt/conda/lib/python3.9/site-packages/pandas/core/internals/blocks.py\u001b[0m in \u001b[0;36mto_native_types\u001b[0;34m(self, na_rep, quoting, **kwargs)\u001b[0m\n\u001b[1;32m    640\u001b[0m     \u001b[0;32mdef\u001b[0m \u001b[0mto_native_types\u001b[0m\u001b[0;34m(\u001b[0m\u001b[0mself\u001b[0m\u001b[0;34m,\u001b[0m \u001b[0mna_rep\u001b[0m\u001b[0;34m=\u001b[0m\u001b[0;34m\"nan\"\u001b[0m\u001b[0;34m,\u001b[0m \u001b[0mquoting\u001b[0m\u001b[0;34m=\u001b[0m\u001b[0;32mNone\u001b[0m\u001b[0;34m,\u001b[0m \u001b[0;34m**\u001b[0m\u001b[0mkwargs\u001b[0m\u001b[0;34m)\u001b[0m\u001b[0;34m:\u001b[0m\u001b[0;34m\u001b[0m\u001b[0;34m\u001b[0m\u001b[0m\n\u001b[1;32m    641\u001b[0m         \u001b[0;34m\"\"\"convert to our native types format\"\"\"\u001b[0m\u001b[0;34m\u001b[0m\u001b[0;34m\u001b[0m\u001b[0m\n\u001b[0;32m--> 642\u001b[0;31m         \u001b[0mresult\u001b[0m \u001b[0;34m=\u001b[0m \u001b[0mto_native_types\u001b[0m\u001b[0;34m(\u001b[0m\u001b[0mself\u001b[0m\u001b[0;34m.\u001b[0m\u001b[0mvalues\u001b[0m\u001b[0;34m,\u001b[0m \u001b[0mna_rep\u001b[0m\u001b[0;34m=\u001b[0m\u001b[0mna_rep\u001b[0m\u001b[0;34m,\u001b[0m \u001b[0mquoting\u001b[0m\u001b[0;34m=\u001b[0m\u001b[0mquoting\u001b[0m\u001b[0;34m,\u001b[0m \u001b[0;34m**\u001b[0m\u001b[0mkwargs\u001b[0m\u001b[0;34m)\u001b[0m\u001b[0;34m\u001b[0m\u001b[0;34m\u001b[0m\u001b[0m\n\u001b[0m\u001b[1;32m    643\u001b[0m         \u001b[0;32mreturn\u001b[0m \u001b[0mself\u001b[0m\u001b[0;34m.\u001b[0m\u001b[0mmake_block\u001b[0m\u001b[0;34m(\u001b[0m\u001b[0mresult\u001b[0m\u001b[0;34m)\u001b[0m\u001b[0;34m\u001b[0m\u001b[0;34m\u001b[0m\u001b[0m\n\u001b[1;32m    644\u001b[0m \u001b[0;34m\u001b[0m\u001b[0m\n",
      "\u001b[0;32m/opt/conda/lib/python3.9/site-packages/pandas/core/internals/blocks.py\u001b[0m in \u001b[0;36mto_native_types\u001b[0;34m(values, na_rep, quoting, float_format, decimal, **kwargs)\u001b[0m\n\u001b[1;32m   2057\u001b[0m \u001b[0;34m\u001b[0m\u001b[0m\n\u001b[1;32m   2058\u001b[0m             \u001b[0;32mif\u001b[0m \u001b[0;32mnot\u001b[0m \u001b[0mquoting\u001b[0m\u001b[0;34m:\u001b[0m\u001b[0;34m\u001b[0m\u001b[0;34m\u001b[0m\u001b[0m\n\u001b[0;32m-> 2059\u001b[0;31m                 \u001b[0mvalues\u001b[0m \u001b[0;34m=\u001b[0m \u001b[0mvalues\u001b[0m\u001b[0;34m.\u001b[0m\u001b[0mastype\u001b[0m\u001b[0;34m(\u001b[0m\u001b[0mstr\u001b[0m\u001b[0;34m)\u001b[0m\u001b[0;34m\u001b[0m\u001b[0;34m\u001b[0m\u001b[0m\n\u001b[0m\u001b[1;32m   2060\u001b[0m             \u001b[0;32melse\u001b[0m\u001b[0;34m:\u001b[0m\u001b[0;34m\u001b[0m\u001b[0;34m\u001b[0m\u001b[0m\n\u001b[1;32m   2061\u001b[0m                 \u001b[0mvalues\u001b[0m \u001b[0;34m=\u001b[0m \u001b[0mnp\u001b[0m\u001b[0;34m.\u001b[0m\u001b[0marray\u001b[0m\u001b[0;34m(\u001b[0m\u001b[0mvalues\u001b[0m\u001b[0;34m,\u001b[0m \u001b[0mdtype\u001b[0m\u001b[0;34m=\u001b[0m\u001b[0;34m\"object\"\u001b[0m\u001b[0;34m)\u001b[0m\u001b[0;34m\u001b[0m\u001b[0;34m\u001b[0m\u001b[0m\n",
      "\u001b[0;31mKeyboardInterrupt\u001b[0m: "
     ]
    }
   ],
   "source": [
    "# create data iterators\n",
    "iter_train, iter_val, iter_test = prepare_iters(DATA_FILE, WIN, H, 'fc_model', BATCH_N)\n",
    "\n",
    "## prepare symbols\n",
    "input_feature_shape = iter_train.provide_data[0][1]\n",
    "X = mx.sym.Variable(iter_train.provide_data[0].name)\n",
    "Y = mx.sym.Variable(iter_train.provide_label[0].name)\n",
    "\n",
    "# # set up model\n",
    "# model_dict = {\n",
    "#     'fc_model'            : fc_model,\n",
    "#     'rnn_model'           : rnn_model,\n",
    "#     'cnn_model'           : cnn_model,\n",
    "#     'simple_lstnet_model' : simple_lstnet_model\n",
    "# }\n",
    "# model = model_dict[MODEL]\n",
    "model = fc_model\n",
    "\n",
    "symbol, data_names, label_names = model(\n",
    "    iter_train,\n",
    "    input_feature_shape, X, Y,\n",
    "    WIN, SZ_FILT,\n",
    "    N_FILT, DROP, SEASONAL_PERIOD\n",
    ")\n",
    "\n",
    "## train \n",
    "train(symbol, iter_train, iter_val, iter_test, data_names, label_names, SAVE_DIR)"
   ]
  },
  {
   "cell_type": "markdown",
   "id": "68d65353-ab5e-4a2f-9300-035d424af387",
   "metadata": {},
   "source": [
    "## 予測モデル2:CNN\n",
    "\n",
    "- CNNを使った時系列解析\n",
    "- CNNも時系列用の構造ではないけど、比較的使われている気がする\n",
    "- データ形式はNTCだが、画像のように置き換えて扱う\n",
    "  - 画像[height, width, channel] -> 今回のデータ[窓幅, 計測地点, 1(カラーチャネル1で白黒様データ)]\n",
    "  - 各データは独立（i.i.d）"
   ]
  },
  {
   "cell_type": "code",
   "execution_count": 30,
   "id": "824a55c4-fd66-49ad-800c-e557716f5e9b",
   "metadata": {},
   "outputs": [],
   "source": [
    "def cnn_model(iter_train, input_feature_shape, X, Y,\n",
    "              win, sz_filt, n_filter, drop, seasonal_period):\n",
    "    # mxnetのConvolutionが期待する形式[N, channel, height, width]に変換する\n",
    "    conv_input = mx.sym.reshape(data=X, shape=(0, 1, win, -1)) \n",
    "    \n",
    "    cnn_output = mx.sym.Convolution(data=conv_input,\n",
    "                                    kernel=(sz_filt,\n",
    "                                            input_feature_shape[2]),\n",
    "                                    num_filter=n_filter)\n",
    "    cnn_output = mx.sym.Activation(data=cnn_output, act_type='relu')\n",
    "    cnn_output = mx.sym.reshape(mx.sym.transpose(data=cnn_output,\n",
    "                                                 axes=(0, 2, 1, 3)),\n",
    "                                shape=(0, 0, 0))\n",
    "    cnn_output = mx.sym.Dropout(cnn_output, p=drop)\n",
    "    \n",
    "    output = mx.sym.FullyConnected(data=cnn_output,\n",
    "                                   num_hidden=input_feature_shape[2])\n",
    "    loss_grad = mx.sym.LinearRegressionOutput(data=output, label=Y)\n",
    "    return (loss_grad,\n",
    "            [v.name for v in iter_train.provide_data],\n",
    "            [v.name for v in iter_train.provide_label])"
   ]
  },
  {
   "cell_type": "code",
   "execution_count": 31,
   "id": "779c80c1-475d-4e44-8ef5-883d60276cfb",
   "metadata": {
    "collapsed": true,
    "jupyter": {
     "outputs_hidden": true
    },
    "tags": []
   },
   "outputs": [
    {
     "name": "stdout",
     "output_type": "stream",
     "text": [
      "Epoch     Training Cor     Validation Cor\n"
     ]
    },
    {
     "name": "stderr",
     "output_type": "stream",
     "text": [
      "[07:58:50] ../src/executor/graph_executor.cc:1991: Subgraph backend MKLDNN is activated.\n"
     ]
    },
    {
     "name": "stdout",
     "output_type": "stream",
     "text": [
      "0         0.011851       0.018055 \n",
      "1         0.013905       0.021524 \n"
     ]
    },
    {
     "ename": "KeyboardInterrupt",
     "evalue": "",
     "output_type": "error",
     "traceback": [
      "\u001b[0;31m---------------------------------------------------------------------------\u001b[0m",
      "\u001b[0;31mKeyboardInterrupt\u001b[0m                         Traceback (most recent call last)",
      "\u001b[0;32m/tmp/ipykernel_440/685781078.py\u001b[0m in \u001b[0;36m<module>\u001b[0;34m\u001b[0m\n\u001b[1;32m     25\u001b[0m \u001b[0;34m\u001b[0m\u001b[0m\n\u001b[1;32m     26\u001b[0m \u001b[0;31m## train\u001b[0m\u001b[0;34m\u001b[0m\u001b[0;34m\u001b[0m\u001b[0;34m\u001b[0m\u001b[0m\n\u001b[0;32m---> 27\u001b[0;31m \u001b[0mtrain\u001b[0m\u001b[0;34m(\u001b[0m\u001b[0msymbol\u001b[0m\u001b[0;34m,\u001b[0m \u001b[0miter_train\u001b[0m\u001b[0;34m,\u001b[0m \u001b[0miter_val\u001b[0m\u001b[0;34m,\u001b[0m \u001b[0miter_test\u001b[0m\u001b[0;34m,\u001b[0m \u001b[0mdata_names\u001b[0m\u001b[0;34m,\u001b[0m \u001b[0mlabel_names\u001b[0m\u001b[0;34m,\u001b[0m \u001b[0mSAVE_DIR\u001b[0m\u001b[0;34m)\u001b[0m\u001b[0;34m\u001b[0m\u001b[0;34m\u001b[0m\u001b[0m\n\u001b[0m",
      "\u001b[0;32m/tmp/ipykernel_440/1295507539.py\u001b[0m in \u001b[0;36mtrain\u001b[0;34m(symbol, iter_train, valid_iter, iter_test, data_names, label_names, save_dir, gpu)\u001b[0m\n\u001b[1;32m     49\u001b[0m \u001b[0;34m\u001b[0m\u001b[0m\n\u001b[1;32m     50\u001b[0m         \u001b[0;31m## training results\u001b[0m\u001b[0;34m\u001b[0m\u001b[0;34m\u001b[0m\u001b[0;34m\u001b[0m\u001b[0m\n\u001b[0;32m---> 51\u001b[0;31m         \u001b[0mtrain_pred\u001b[0m  \u001b[0;34m=\u001b[0m \u001b[0mmodule\u001b[0m\u001b[0;34m.\u001b[0m\u001b[0mpredict\u001b[0m\u001b[0;34m(\u001b[0m\u001b[0miter_train\u001b[0m\u001b[0;34m)\u001b[0m\u001b[0;34m.\u001b[0m\u001b[0masnumpy\u001b[0m\u001b[0;34m(\u001b[0m\u001b[0;34m)\u001b[0m\u001b[0;34m\u001b[0m\u001b[0;34m\u001b[0m\u001b[0m\n\u001b[0m\u001b[1;32m     52\u001b[0m         \u001b[0mtrain_label\u001b[0m \u001b[0;34m=\u001b[0m \u001b[0miter_train\u001b[0m\u001b[0;34m.\u001b[0m\u001b[0mlabel\u001b[0m\u001b[0;34m[\u001b[0m\u001b[0;36m0\u001b[0m\u001b[0;34m]\u001b[0m\u001b[0;34m[\u001b[0m\u001b[0;36m1\u001b[0m\u001b[0;34m]\u001b[0m\u001b[0;34m.\u001b[0m\u001b[0masnumpy\u001b[0m\u001b[0;34m(\u001b[0m\u001b[0;34m)\u001b[0m\u001b[0;34m\u001b[0m\u001b[0;34m\u001b[0m\u001b[0m\n\u001b[1;32m     53\u001b[0m         train_perf  = evaluate_and_write(\n",
      "\u001b[0;32m/opt/conda/lib/python3.9/site-packages/mxnet/ndarray/ndarray.py\u001b[0m in \u001b[0;36masnumpy\u001b[0;34m(self)\u001b[0m\n\u001b[1;32m   2566\u001b[0m         \"\"\"\n\u001b[1;32m   2567\u001b[0m         \u001b[0mdata\u001b[0m \u001b[0;34m=\u001b[0m \u001b[0mnp\u001b[0m\u001b[0;34m.\u001b[0m\u001b[0mempty\u001b[0m\u001b[0;34m(\u001b[0m\u001b[0mself\u001b[0m\u001b[0;34m.\u001b[0m\u001b[0mshape\u001b[0m\u001b[0;34m,\u001b[0m \u001b[0mdtype\u001b[0m\u001b[0;34m=\u001b[0m\u001b[0mself\u001b[0m\u001b[0;34m.\u001b[0m\u001b[0mdtype\u001b[0m\u001b[0;34m)\u001b[0m\u001b[0;34m\u001b[0m\u001b[0;34m\u001b[0m\u001b[0m\n\u001b[0;32m-> 2568\u001b[0;31m         check_call(_LIB.MXNDArraySyncCopyToCPU(\n\u001b[0m\u001b[1;32m   2569\u001b[0m             \u001b[0mself\u001b[0m\u001b[0;34m.\u001b[0m\u001b[0mhandle\u001b[0m\u001b[0;34m,\u001b[0m\u001b[0;34m\u001b[0m\u001b[0;34m\u001b[0m\u001b[0m\n\u001b[1;32m   2570\u001b[0m             \u001b[0mdata\u001b[0m\u001b[0;34m.\u001b[0m\u001b[0mctypes\u001b[0m\u001b[0;34m.\u001b[0m\u001b[0mdata_as\u001b[0m\u001b[0;34m(\u001b[0m\u001b[0mctypes\u001b[0m\u001b[0;34m.\u001b[0m\u001b[0mc_void_p\u001b[0m\u001b[0;34m)\u001b[0m\u001b[0;34m,\u001b[0m\u001b[0;34m\u001b[0m\u001b[0;34m\u001b[0m\u001b[0m\n",
      "\u001b[0;31mKeyboardInterrupt\u001b[0m: "
     ]
    }
   ],
   "source": [
    "# create data iterators\n",
    "iter_train, iter_val, iter_test = prepare_iters(DATA_FILE, WIN, H, 'not_fc_model', BATCH_N)\n",
    "\n",
    "## prepare symbols\n",
    "input_feature_shape = iter_train.provide_data[0][1]\n",
    "X = mx.sym.Variable(iter_train.provide_data[0].name)\n",
    "Y = mx.sym.Variable(iter_train.provide_label[0].name)\n",
    "\n",
    "# # set up model\n",
    "# model_dict = {\n",
    "#     'fc_model'            : fc_model,\n",
    "#     'rnn_model'           : rnn_model,\n",
    "#     'cnn_model'           : cnn_model,\n",
    "#     'simple_lstnet_model' : simple_lstnet_model\n",
    "# }\n",
    "# model = model_dict[MODEL]\n",
    "model = cnn_model\n",
    "\n",
    "symbol, data_names, label_names = model(\n",
    "    iter_train,\n",
    "    input_feature_shape, X, Y,\n",
    "    WIN, SZ_FILT,\n",
    "    N_FILT, DROP, SEASONAL_PERIOD\n",
    ")\n",
    "\n",
    "## train \n",
    "train(symbol, iter_train, iter_val, iter_test, data_names, label_names, SAVE_DIR)"
   ]
  },
  {
   "cell_type": "markdown",
   "id": "c52cf9a7-f114-4e7b-9edb-d6f17e72ce8e",
   "metadata": {},
   "source": [
    "## 予測モデル3:RNN\n",
    "\n",
    "- 系列データを扱うためのモデル\n",
    "  - 重みが共有される構造のため、長い系列データを入力してもパラメータ数は抑えられている\n",
    "  - 今回はGRU(Gated Recurrent Unit)を使う"
   ]
  },
  {
   "cell_type": "code",
   "execution_count": 32,
   "id": "c7c0e229-bb21-4c38-84fa-ba0d48262823",
   "metadata": {},
   "outputs": [],
   "source": [
    "def rnn_model(iter_train, input_feature_shape, X, Y,\n",
    "              win, sz_filt, n_filter, drop, seasonal_period):\n",
    "    rnn_cells = mx.rnn.SequentialRNNCell()\n",
    "    rnn_cells.add(mx.rnn.GRUCell(num_hidden=RNN_UNITS))\n",
    "    rnn_cells.add(mx.rnn.DropoutCell(drop))\n",
    "    outputs, _ = rnn_cells.unroll(length=win, inputs=X, merge_outputs=False)\n",
    "    rnn_output = outputs[-1] # only take value from final unrolled cell for use later\n",
    "    \n",
    "    output = mx.sym.FullyConnected(data=rnn_output, num_hidden=input_feature_shape[2])\n",
    "    loss_grad = mx.sym.LinearRegressionOutput(data=output, label=Y)\n",
    "    return (loss_grad,\n",
    "            [v.name for v in iter_train.provide_data],\n",
    "            [v.name for v in iter_train.provide_label])"
   ]
  },
  {
   "cell_type": "code",
   "execution_count": 33,
   "id": "ea6cebaf-5d8e-4619-bca5-9d627b159dbb",
   "metadata": {
    "collapsed": true,
    "jupyter": {
     "outputs_hidden": true
    },
    "tags": []
   },
   "outputs": [
    {
     "name": "stdout",
     "output_type": "stream",
     "text": [
      "Epoch     Training Cor     Validation Cor\n"
     ]
    },
    {
     "name": "stderr",
     "output_type": "stream",
     "text": [
      "[08:10:12] ../src/executor/graph_executor.cc:1991: Subgraph backend MKLDNN is activated.\n"
     ]
    },
    {
     "name": "stdout",
     "output_type": "stream",
     "text": [
      "0         0.019859       0.016854 \n",
      "1         0.039500       0.034889 \n",
      "2         0.062757       0.057026 \n",
      "3         0.090827       0.084552 \n",
      "4         0.123248       0.117031 \n",
      "5         0.158156       0.152355 \n",
      "6         0.193606       0.187905 \n"
     ]
    },
    {
     "ename": "KeyboardInterrupt",
     "evalue": "",
     "output_type": "error",
     "traceback": [
      "\u001b[0;31m---------------------------------------------------------------------------\u001b[0m",
      "\u001b[0;31mKeyboardInterrupt\u001b[0m                         Traceback (most recent call last)",
      "\u001b[0;32m/tmp/ipykernel_440/2504193490.py\u001b[0m in \u001b[0;36m<module>\u001b[0;34m\u001b[0m\n\u001b[1;32m     25\u001b[0m \u001b[0;34m\u001b[0m\u001b[0m\n\u001b[1;32m     26\u001b[0m \u001b[0;31m## train\u001b[0m\u001b[0;34m\u001b[0m\u001b[0;34m\u001b[0m\u001b[0;34m\u001b[0m\u001b[0m\n\u001b[0;32m---> 27\u001b[0;31m \u001b[0mtrain\u001b[0m\u001b[0;34m(\u001b[0m\u001b[0msymbol\u001b[0m\u001b[0;34m,\u001b[0m \u001b[0miter_train\u001b[0m\u001b[0;34m,\u001b[0m \u001b[0miter_val\u001b[0m\u001b[0;34m,\u001b[0m \u001b[0miter_test\u001b[0m\u001b[0;34m,\u001b[0m \u001b[0mdata_names\u001b[0m\u001b[0;34m,\u001b[0m \u001b[0mlabel_names\u001b[0m\u001b[0;34m,\u001b[0m \u001b[0mSAVE_DIR\u001b[0m\u001b[0;34m)\u001b[0m\u001b[0;34m\u001b[0m\u001b[0;34m\u001b[0m\u001b[0m\n\u001b[0m",
      "\u001b[0;32m/tmp/ipykernel_440/1295507539.py\u001b[0m in \u001b[0;36mtrain\u001b[0;34m(symbol, iter_train, valid_iter, iter_test, data_names, label_names, save_dir, gpu)\u001b[0m\n\u001b[1;32m     58\u001b[0m         \u001b[0mval_pred\u001b[0m  \u001b[0;34m=\u001b[0m \u001b[0mmodule\u001b[0m\u001b[0;34m.\u001b[0m\u001b[0mpredict\u001b[0m\u001b[0;34m(\u001b[0m\u001b[0miter_val\u001b[0m\u001b[0;34m)\u001b[0m\u001b[0;34m.\u001b[0m\u001b[0masnumpy\u001b[0m\u001b[0;34m(\u001b[0m\u001b[0;34m)\u001b[0m\u001b[0;34m\u001b[0m\u001b[0;34m\u001b[0m\u001b[0m\n\u001b[1;32m     59\u001b[0m         \u001b[0mval_label\u001b[0m \u001b[0;34m=\u001b[0m \u001b[0miter_val\u001b[0m\u001b[0;34m.\u001b[0m\u001b[0mlabel\u001b[0m\u001b[0;34m[\u001b[0m\u001b[0;36m0\u001b[0m\u001b[0;34m]\u001b[0m\u001b[0;34m[\u001b[0m\u001b[0;36m1\u001b[0m\u001b[0;34m]\u001b[0m\u001b[0;34m.\u001b[0m\u001b[0masnumpy\u001b[0m\u001b[0;34m(\u001b[0m\u001b[0;34m)\u001b[0m\u001b[0;34m\u001b[0m\u001b[0;34m\u001b[0m\u001b[0m\n\u001b[0;32m---> 60\u001b[0;31m         val_perf  = evaluate_and_write(\n\u001b[0m\u001b[1;32m     61\u001b[0m             \u001b[0mval_pred\u001b[0m\u001b[0;34m,\u001b[0m \u001b[0mval_label\u001b[0m\u001b[0;34m,\u001b[0m \u001b[0msave_dir\u001b[0m\u001b[0;34m,\u001b[0m \u001b[0;34m\"valid\"\u001b[0m\u001b[0;34m,\u001b[0m \u001b[0mepoch\u001b[0m\u001b[0;34m\u001b[0m\u001b[0;34m\u001b[0m\u001b[0m\n\u001b[1;32m     62\u001b[0m         )\n",
      "\u001b[0;32m/tmp/ipykernel_440/1193110054.py\u001b[0m in \u001b[0;36mevaluate_and_write\u001b[0;34m(pred, label, save_dir, mode, epoch)\u001b[0m\n\u001b[1;32m      6\u001b[0m     \u001b[0mpred_df\u001b[0m \u001b[0;34m=\u001b[0m \u001b[0mpd\u001b[0m\u001b[0;34m.\u001b[0m\u001b[0mDataFrame\u001b[0m\u001b[0;34m(\u001b[0m\u001b[0mpred\u001b[0m\u001b[0;34m)\u001b[0m\u001b[0;34m\u001b[0m\u001b[0;34m\u001b[0m\u001b[0m\n\u001b[1;32m      7\u001b[0m     \u001b[0mlabel_df\u001b[0m \u001b[0;34m=\u001b[0m \u001b[0mpd\u001b[0m\u001b[0;34m.\u001b[0m\u001b[0mDataFrame\u001b[0m\u001b[0;34m(\u001b[0m\u001b[0mlabel\u001b[0m\u001b[0;34m)\u001b[0m\u001b[0;34m\u001b[0m\u001b[0;34m\u001b[0m\u001b[0m\n\u001b[0;32m----> 8\u001b[0;31m     \u001b[0mpred_df\u001b[0m\u001b[0;34m.\u001b[0m\u001b[0mto_csv\u001b[0m\u001b[0;34m(\u001b[0m\u001b[0mos\u001b[0m\u001b[0;34m.\u001b[0m\u001b[0mpath\u001b[0m\u001b[0;34m.\u001b[0m\u001b[0mjoin\u001b[0m\u001b[0;34m(\u001b[0m\u001b[0msave_dir\u001b[0m\u001b[0;34m,\u001b[0m \u001b[0;34m'%s_pred%d.csv'\u001b[0m\u001b[0;34m%\u001b[0m\u001b[0;34m(\u001b[0m\u001b[0mmode\u001b[0m\u001b[0;34m,\u001b[0m \u001b[0mepoch\u001b[0m\u001b[0;34m)\u001b[0m\u001b[0;34m)\u001b[0m\u001b[0;34m)\u001b[0m\u001b[0;34m\u001b[0m\u001b[0;34m\u001b[0m\u001b[0m\n\u001b[0m\u001b[1;32m      9\u001b[0m     \u001b[0mlabel_df\u001b[0m\u001b[0;34m.\u001b[0m\u001b[0mto_csv\u001b[0m\u001b[0;34m(\u001b[0m\u001b[0mos\u001b[0m\u001b[0;34m.\u001b[0m\u001b[0mpath\u001b[0m\u001b[0;34m.\u001b[0m\u001b[0mjoin\u001b[0m\u001b[0;34m(\u001b[0m\u001b[0msave_dir\u001b[0m\u001b[0;34m,\u001b[0m \u001b[0;34m'%s_label%d.csv'\u001b[0m\u001b[0;34m%\u001b[0m\u001b[0;34m(\u001b[0m\u001b[0mmode\u001b[0m\u001b[0;34m,\u001b[0m \u001b[0mepoch\u001b[0m\u001b[0;34m)\u001b[0m\u001b[0;34m)\u001b[0m\u001b[0;34m)\u001b[0m\u001b[0;34m\u001b[0m\u001b[0;34m\u001b[0m\u001b[0m\n\u001b[1;32m     10\u001b[0m \u001b[0;34m\u001b[0m\u001b[0m\n",
      "\u001b[0;32m/opt/conda/lib/python3.9/site-packages/pandas/core/generic.py\u001b[0m in \u001b[0;36mto_csv\u001b[0;34m(self, path_or_buf, sep, na_rep, float_format, columns, header, index, index_label, mode, encoding, compression, quoting, quotechar, line_terminator, chunksize, date_format, doublequote, escapechar, decimal, errors, storage_options)\u001b[0m\n\u001b[1;32m   3461\u001b[0m         )\n\u001b[1;32m   3462\u001b[0m \u001b[0;34m\u001b[0m\u001b[0m\n\u001b[0;32m-> 3463\u001b[0;31m         return DataFrameRenderer(formatter).to_csv(\n\u001b[0m\u001b[1;32m   3464\u001b[0m             \u001b[0mpath_or_buf\u001b[0m\u001b[0;34m,\u001b[0m\u001b[0;34m\u001b[0m\u001b[0;34m\u001b[0m\u001b[0m\n\u001b[1;32m   3465\u001b[0m             \u001b[0mline_terminator\u001b[0m\u001b[0;34m=\u001b[0m\u001b[0mline_terminator\u001b[0m\u001b[0;34m,\u001b[0m\u001b[0;34m\u001b[0m\u001b[0;34m\u001b[0m\u001b[0m\n",
      "\u001b[0;32m/opt/conda/lib/python3.9/site-packages/pandas/io/formats/format.py\u001b[0m in \u001b[0;36mto_csv\u001b[0;34m(self, path_or_buf, encoding, sep, columns, index_label, mode, compression, quoting, quotechar, line_terminator, chunksize, date_format, doublequote, escapechar, errors, storage_options)\u001b[0m\n\u001b[1;32m   1103\u001b[0m             \u001b[0mformatter\u001b[0m\u001b[0;34m=\u001b[0m\u001b[0mself\u001b[0m\u001b[0;34m.\u001b[0m\u001b[0mfmt\u001b[0m\u001b[0;34m,\u001b[0m\u001b[0;34m\u001b[0m\u001b[0;34m\u001b[0m\u001b[0m\n\u001b[1;32m   1104\u001b[0m         )\n\u001b[0;32m-> 1105\u001b[0;31m         \u001b[0mcsv_formatter\u001b[0m\u001b[0;34m.\u001b[0m\u001b[0msave\u001b[0m\u001b[0;34m(\u001b[0m\u001b[0;34m)\u001b[0m\u001b[0;34m\u001b[0m\u001b[0;34m\u001b[0m\u001b[0m\n\u001b[0m\u001b[1;32m   1106\u001b[0m \u001b[0;34m\u001b[0m\u001b[0m\n\u001b[1;32m   1107\u001b[0m         \u001b[0;32mif\u001b[0m \u001b[0mcreated_buffer\u001b[0m\u001b[0;34m:\u001b[0m\u001b[0;34m\u001b[0m\u001b[0;34m\u001b[0m\u001b[0m\n",
      "\u001b[0;32m/opt/conda/lib/python3.9/site-packages/pandas/io/formats/csvs.py\u001b[0m in \u001b[0;36msave\u001b[0;34m(self)\u001b[0m\n\u001b[1;32m    255\u001b[0m             )\n\u001b[1;32m    256\u001b[0m \u001b[0;34m\u001b[0m\u001b[0m\n\u001b[0;32m--> 257\u001b[0;31m             \u001b[0mself\u001b[0m\u001b[0;34m.\u001b[0m\u001b[0m_save\u001b[0m\u001b[0;34m(\u001b[0m\u001b[0;34m)\u001b[0m\u001b[0;34m\u001b[0m\u001b[0;34m\u001b[0m\u001b[0m\n\u001b[0m\u001b[1;32m    258\u001b[0m \u001b[0;34m\u001b[0m\u001b[0m\n\u001b[1;32m    259\u001b[0m     \u001b[0;32mdef\u001b[0m \u001b[0m_save\u001b[0m\u001b[0;34m(\u001b[0m\u001b[0mself\u001b[0m\u001b[0;34m)\u001b[0m \u001b[0;34m->\u001b[0m \u001b[0;32mNone\u001b[0m\u001b[0;34m:\u001b[0m\u001b[0;34m\u001b[0m\u001b[0;34m\u001b[0m\u001b[0m\n",
      "\u001b[0;32m/opt/conda/lib/python3.9/site-packages/pandas/io/formats/csvs.py\u001b[0m in \u001b[0;36m_save\u001b[0;34m(self)\u001b[0m\n\u001b[1;32m    260\u001b[0m         \u001b[0;32mif\u001b[0m \u001b[0mself\u001b[0m\u001b[0;34m.\u001b[0m\u001b[0m_need_to_save_header\u001b[0m\u001b[0;34m:\u001b[0m\u001b[0;34m\u001b[0m\u001b[0;34m\u001b[0m\u001b[0m\n\u001b[1;32m    261\u001b[0m             \u001b[0mself\u001b[0m\u001b[0;34m.\u001b[0m\u001b[0m_save_header\u001b[0m\u001b[0;34m(\u001b[0m\u001b[0;34m)\u001b[0m\u001b[0;34m\u001b[0m\u001b[0;34m\u001b[0m\u001b[0m\n\u001b[0;32m--> 262\u001b[0;31m         \u001b[0mself\u001b[0m\u001b[0;34m.\u001b[0m\u001b[0m_save_body\u001b[0m\u001b[0;34m(\u001b[0m\u001b[0;34m)\u001b[0m\u001b[0;34m\u001b[0m\u001b[0;34m\u001b[0m\u001b[0m\n\u001b[0m\u001b[1;32m    263\u001b[0m \u001b[0;34m\u001b[0m\u001b[0m\n\u001b[1;32m    264\u001b[0m     \u001b[0;32mdef\u001b[0m \u001b[0m_save_header\u001b[0m\u001b[0;34m(\u001b[0m\u001b[0mself\u001b[0m\u001b[0;34m)\u001b[0m \u001b[0;34m->\u001b[0m \u001b[0;32mNone\u001b[0m\u001b[0;34m:\u001b[0m\u001b[0;34m\u001b[0m\u001b[0;34m\u001b[0m\u001b[0m\n",
      "\u001b[0;32m/opt/conda/lib/python3.9/site-packages/pandas/io/formats/csvs.py\u001b[0m in \u001b[0;36m_save_body\u001b[0;34m(self)\u001b[0m\n\u001b[1;32m    298\u001b[0m             \u001b[0;32mif\u001b[0m \u001b[0mstart_i\u001b[0m \u001b[0;34m>=\u001b[0m \u001b[0mend_i\u001b[0m\u001b[0;34m:\u001b[0m\u001b[0;34m\u001b[0m\u001b[0;34m\u001b[0m\u001b[0m\n\u001b[1;32m    299\u001b[0m                 \u001b[0;32mbreak\u001b[0m\u001b[0;34m\u001b[0m\u001b[0;34m\u001b[0m\u001b[0m\n\u001b[0;32m--> 300\u001b[0;31m             \u001b[0mself\u001b[0m\u001b[0;34m.\u001b[0m\u001b[0m_save_chunk\u001b[0m\u001b[0;34m(\u001b[0m\u001b[0mstart_i\u001b[0m\u001b[0;34m,\u001b[0m \u001b[0mend_i\u001b[0m\u001b[0;34m)\u001b[0m\u001b[0;34m\u001b[0m\u001b[0;34m\u001b[0m\u001b[0m\n\u001b[0m\u001b[1;32m    301\u001b[0m \u001b[0;34m\u001b[0m\u001b[0m\n\u001b[1;32m    302\u001b[0m     \u001b[0;32mdef\u001b[0m \u001b[0m_save_chunk\u001b[0m\u001b[0;34m(\u001b[0m\u001b[0mself\u001b[0m\u001b[0;34m,\u001b[0m \u001b[0mstart_i\u001b[0m\u001b[0;34m:\u001b[0m \u001b[0mint\u001b[0m\u001b[0;34m,\u001b[0m \u001b[0mend_i\u001b[0m\u001b[0;34m:\u001b[0m \u001b[0mint\u001b[0m\u001b[0;34m)\u001b[0m \u001b[0;34m->\u001b[0m \u001b[0;32mNone\u001b[0m\u001b[0;34m:\u001b[0m\u001b[0;34m\u001b[0m\u001b[0;34m\u001b[0m\u001b[0m\n",
      "\u001b[0;32m/opt/conda/lib/python3.9/site-packages/pandas/io/formats/csvs.py\u001b[0m in \u001b[0;36m_save_chunk\u001b[0;34m(self, start_i, end_i)\u001b[0m\n\u001b[1;32m    305\u001b[0m         \u001b[0mdf\u001b[0m \u001b[0;34m=\u001b[0m \u001b[0mself\u001b[0m\u001b[0;34m.\u001b[0m\u001b[0mobj\u001b[0m\u001b[0;34m.\u001b[0m\u001b[0miloc\u001b[0m\u001b[0;34m[\u001b[0m\u001b[0mslicer\u001b[0m\u001b[0;34m]\u001b[0m\u001b[0;34m\u001b[0m\u001b[0;34m\u001b[0m\u001b[0m\n\u001b[1;32m    306\u001b[0m \u001b[0;34m\u001b[0m\u001b[0m\n\u001b[0;32m--> 307\u001b[0;31m         \u001b[0mres\u001b[0m \u001b[0;34m=\u001b[0m \u001b[0mdf\u001b[0m\u001b[0;34m.\u001b[0m\u001b[0m_mgr\u001b[0m\u001b[0;34m.\u001b[0m\u001b[0mto_native_types\u001b[0m\u001b[0;34m(\u001b[0m\u001b[0;34m**\u001b[0m\u001b[0mself\u001b[0m\u001b[0;34m.\u001b[0m\u001b[0m_number_format\u001b[0m\u001b[0;34m)\u001b[0m\u001b[0;34m\u001b[0m\u001b[0;34m\u001b[0m\u001b[0m\n\u001b[0m\u001b[1;32m    308\u001b[0m         \u001b[0mdata\u001b[0m \u001b[0;34m=\u001b[0m \u001b[0;34m[\u001b[0m\u001b[0mres\u001b[0m\u001b[0;34m.\u001b[0m\u001b[0miget_values\u001b[0m\u001b[0;34m(\u001b[0m\u001b[0mi\u001b[0m\u001b[0;34m)\u001b[0m \u001b[0;32mfor\u001b[0m \u001b[0mi\u001b[0m \u001b[0;32min\u001b[0m \u001b[0mrange\u001b[0m\u001b[0;34m(\u001b[0m\u001b[0mlen\u001b[0m\u001b[0;34m(\u001b[0m\u001b[0mres\u001b[0m\u001b[0;34m.\u001b[0m\u001b[0mitems\u001b[0m\u001b[0;34m)\u001b[0m\u001b[0;34m)\u001b[0m\u001b[0;34m]\u001b[0m\u001b[0;34m\u001b[0m\u001b[0;34m\u001b[0m\u001b[0m\n\u001b[1;32m    309\u001b[0m \u001b[0;34m\u001b[0m\u001b[0m\n",
      "\u001b[0;32m/opt/conda/lib/python3.9/site-packages/pandas/core/internals/managers.py\u001b[0m in \u001b[0;36mto_native_types\u001b[0;34m(self, **kwargs)\u001b[0m\n\u001b[1;32m    460\u001b[0m         \u001b[0;32min\u001b[0m \u001b[0mformatting\u001b[0m \u001b[0;34m(\u001b[0m\u001b[0mrepr\u001b[0m \u001b[0;34m/\u001b[0m \u001b[0mcsv\u001b[0m\u001b[0;34m)\u001b[0m\u001b[0;34m.\u001b[0m\u001b[0;34m\u001b[0m\u001b[0;34m\u001b[0m\u001b[0m\n\u001b[1;32m    461\u001b[0m         \"\"\"\n\u001b[0;32m--> 462\u001b[0;31m         \u001b[0;32mreturn\u001b[0m \u001b[0mself\u001b[0m\u001b[0;34m.\u001b[0m\u001b[0mapply\u001b[0m\u001b[0;34m(\u001b[0m\u001b[0;34m\"to_native_types\"\u001b[0m\u001b[0;34m,\u001b[0m \u001b[0;34m**\u001b[0m\u001b[0mkwargs\u001b[0m\u001b[0;34m)\u001b[0m\u001b[0;34m\u001b[0m\u001b[0;34m\u001b[0m\u001b[0m\n\u001b[0m\u001b[1;32m    463\u001b[0m \u001b[0;34m\u001b[0m\u001b[0m\n\u001b[1;32m    464\u001b[0m     \u001b[0;32mdef\u001b[0m \u001b[0mis_consolidated\u001b[0m\u001b[0;34m(\u001b[0m\u001b[0mself\u001b[0m\u001b[0;34m)\u001b[0m \u001b[0;34m->\u001b[0m \u001b[0mbool\u001b[0m\u001b[0;34m:\u001b[0m\u001b[0;34m\u001b[0m\u001b[0;34m\u001b[0m\u001b[0m\n",
      "\u001b[0;32m/opt/conda/lib/python3.9/site-packages/pandas/core/internals/managers.py\u001b[0m in \u001b[0;36mapply\u001b[0;34m(self, f, align_keys, ignore_failures, **kwargs)\u001b[0m\n\u001b[1;32m    325\u001b[0m                     \u001b[0mapplied\u001b[0m \u001b[0;34m=\u001b[0m \u001b[0mb\u001b[0m\u001b[0;34m.\u001b[0m\u001b[0mapply\u001b[0m\u001b[0;34m(\u001b[0m\u001b[0mf\u001b[0m\u001b[0;34m,\u001b[0m \u001b[0;34m**\u001b[0m\u001b[0mkwargs\u001b[0m\u001b[0;34m)\u001b[0m\u001b[0;34m\u001b[0m\u001b[0;34m\u001b[0m\u001b[0m\n\u001b[1;32m    326\u001b[0m                 \u001b[0;32melse\u001b[0m\u001b[0;34m:\u001b[0m\u001b[0;34m\u001b[0m\u001b[0;34m\u001b[0m\u001b[0m\n\u001b[0;32m--> 327\u001b[0;31m                     \u001b[0mapplied\u001b[0m \u001b[0;34m=\u001b[0m \u001b[0mgetattr\u001b[0m\u001b[0;34m(\u001b[0m\u001b[0mb\u001b[0m\u001b[0;34m,\u001b[0m \u001b[0mf\u001b[0m\u001b[0;34m)\u001b[0m\u001b[0;34m(\u001b[0m\u001b[0;34m**\u001b[0m\u001b[0mkwargs\u001b[0m\u001b[0;34m)\u001b[0m\u001b[0;34m\u001b[0m\u001b[0;34m\u001b[0m\u001b[0m\n\u001b[0m\u001b[1;32m    328\u001b[0m             \u001b[0;32mexcept\u001b[0m \u001b[0;34m(\u001b[0m\u001b[0mTypeError\u001b[0m\u001b[0;34m,\u001b[0m \u001b[0mNotImplementedError\u001b[0m\u001b[0;34m)\u001b[0m\u001b[0;34m:\u001b[0m\u001b[0;34m\u001b[0m\u001b[0;34m\u001b[0m\u001b[0m\n\u001b[1;32m    329\u001b[0m                 \u001b[0;32mif\u001b[0m \u001b[0;32mnot\u001b[0m \u001b[0mignore_failures\u001b[0m\u001b[0;34m:\u001b[0m\u001b[0;34m\u001b[0m\u001b[0;34m\u001b[0m\u001b[0m\n",
      "\u001b[0;32m/opt/conda/lib/python3.9/site-packages/pandas/core/internals/blocks.py\u001b[0m in \u001b[0;36mto_native_types\u001b[0;34m(self, na_rep, quoting, **kwargs)\u001b[0m\n\u001b[1;32m    640\u001b[0m     \u001b[0;32mdef\u001b[0m \u001b[0mto_native_types\u001b[0m\u001b[0;34m(\u001b[0m\u001b[0mself\u001b[0m\u001b[0;34m,\u001b[0m \u001b[0mna_rep\u001b[0m\u001b[0;34m=\u001b[0m\u001b[0;34m\"nan\"\u001b[0m\u001b[0;34m,\u001b[0m \u001b[0mquoting\u001b[0m\u001b[0;34m=\u001b[0m\u001b[0;32mNone\u001b[0m\u001b[0;34m,\u001b[0m \u001b[0;34m**\u001b[0m\u001b[0mkwargs\u001b[0m\u001b[0;34m)\u001b[0m\u001b[0;34m:\u001b[0m\u001b[0;34m\u001b[0m\u001b[0;34m\u001b[0m\u001b[0m\n\u001b[1;32m    641\u001b[0m         \u001b[0;34m\"\"\"convert to our native types format\"\"\"\u001b[0m\u001b[0;34m\u001b[0m\u001b[0;34m\u001b[0m\u001b[0m\n\u001b[0;32m--> 642\u001b[0;31m         \u001b[0mresult\u001b[0m \u001b[0;34m=\u001b[0m \u001b[0mto_native_types\u001b[0m\u001b[0;34m(\u001b[0m\u001b[0mself\u001b[0m\u001b[0;34m.\u001b[0m\u001b[0mvalues\u001b[0m\u001b[0;34m,\u001b[0m \u001b[0mna_rep\u001b[0m\u001b[0;34m=\u001b[0m\u001b[0mna_rep\u001b[0m\u001b[0;34m,\u001b[0m \u001b[0mquoting\u001b[0m\u001b[0;34m=\u001b[0m\u001b[0mquoting\u001b[0m\u001b[0;34m,\u001b[0m \u001b[0;34m**\u001b[0m\u001b[0mkwargs\u001b[0m\u001b[0;34m)\u001b[0m\u001b[0;34m\u001b[0m\u001b[0;34m\u001b[0m\u001b[0m\n\u001b[0m\u001b[1;32m    643\u001b[0m         \u001b[0;32mreturn\u001b[0m \u001b[0mself\u001b[0m\u001b[0;34m.\u001b[0m\u001b[0mmake_block\u001b[0m\u001b[0;34m(\u001b[0m\u001b[0mresult\u001b[0m\u001b[0;34m)\u001b[0m\u001b[0;34m\u001b[0m\u001b[0;34m\u001b[0m\u001b[0m\n\u001b[1;32m    644\u001b[0m \u001b[0;34m\u001b[0m\u001b[0m\n",
      "\u001b[0;32m/opt/conda/lib/python3.9/site-packages/pandas/core/internals/blocks.py\u001b[0m in \u001b[0;36mto_native_types\u001b[0;34m(values, na_rep, quoting, float_format, decimal, **kwargs)\u001b[0m\n\u001b[1;32m   2057\u001b[0m \u001b[0;34m\u001b[0m\u001b[0m\n\u001b[1;32m   2058\u001b[0m             \u001b[0;32mif\u001b[0m \u001b[0;32mnot\u001b[0m \u001b[0mquoting\u001b[0m\u001b[0;34m:\u001b[0m\u001b[0;34m\u001b[0m\u001b[0;34m\u001b[0m\u001b[0m\n\u001b[0;32m-> 2059\u001b[0;31m                 \u001b[0mvalues\u001b[0m \u001b[0;34m=\u001b[0m \u001b[0mvalues\u001b[0m\u001b[0;34m.\u001b[0m\u001b[0mastype\u001b[0m\u001b[0;34m(\u001b[0m\u001b[0mstr\u001b[0m\u001b[0;34m)\u001b[0m\u001b[0;34m\u001b[0m\u001b[0;34m\u001b[0m\u001b[0m\n\u001b[0m\u001b[1;32m   2060\u001b[0m             \u001b[0;32melse\u001b[0m\u001b[0;34m:\u001b[0m\u001b[0;34m\u001b[0m\u001b[0;34m\u001b[0m\u001b[0m\n\u001b[1;32m   2061\u001b[0m                 \u001b[0mvalues\u001b[0m \u001b[0;34m=\u001b[0m \u001b[0mnp\u001b[0m\u001b[0;34m.\u001b[0m\u001b[0marray\u001b[0m\u001b[0;34m(\u001b[0m\u001b[0mvalues\u001b[0m\u001b[0;34m,\u001b[0m \u001b[0mdtype\u001b[0m\u001b[0;34m=\u001b[0m\u001b[0;34m\"object\"\u001b[0m\u001b[0;34m)\u001b[0m\u001b[0;34m\u001b[0m\u001b[0;34m\u001b[0m\u001b[0m\n",
      "\u001b[0;31mKeyboardInterrupt\u001b[0m: "
     ]
    }
   ],
   "source": [
    "# create data iterators\n",
    "iter_train, iter_val, iter_test = prepare_iters(DATA_FILE, WIN, H, 'not_fc_model', BATCH_N)\n",
    "\n",
    "## prepare symbols\n",
    "input_feature_shape = iter_train.provide_data[0][1]\n",
    "X = mx.sym.Variable(iter_train.provide_data[0].name)\n",
    "Y = mx.sym.Variable(iter_train.provide_label[0].name)\n",
    "\n",
    "# # set up model\n",
    "# model_dict = {\n",
    "#     'fc_model'            : fc_model,\n",
    "#     'rnn_model'           : rnn_model,\n",
    "#     'cnn_model'           : cnn_model,\n",
    "#     'simple_lstnet_model' : simple_lstnet_model\n",
    "# }\n",
    "# model = model_dict[MODEL]\n",
    "model = rnn_model\n",
    "\n",
    "symbol, data_names, label_names = model(\n",
    "    iter_train,\n",
    "    input_feature_shape, X, Y,\n",
    "    WIN, SZ_FILT,\n",
    "    N_FILT, DROP, SEASONAL_PERIOD\n",
    ")\n",
    "\n",
    "## train \n",
    "train(symbol, iter_train, iter_val, iter_test, data_names, label_names, SAVE_DIR)"
   ]
  },
  {
   "cell_type": "markdown",
   "id": "b4136287-2069-45e6-9e67-6b07d75da4f8",
   "metadata": {},
   "source": [
    "## 予測モデル4:アーキテクチャの組み合わせ\n",
    "\n",
    "LSTNet\n",
    "\n",
    "- CNN, RNN, ARモデル　これらを組み合わせた構造"
   ]
  },
  {
   "cell_type": "code",
   "execution_count": 34,
   "id": "d60c09bf-e09e-4993-a7c3-cb68678fb50b",
   "metadata": {},
   "outputs": [],
   "source": [
    "def simple_lstnet_model(iter_train,  input_feature_shape, X, Y,\n",
    "                        win, sz_filt, n_filter, drop, seasonal_period):\n",
    "    ## must be 4d or 5d to use padding functionality\n",
    "    conv_input = mx.sym.reshape(data=X, shape=(0, 1, win, -1)) \n",
    "\n",
    "    ## convolutional element\n",
    "    ## we add padding at the end of the time win\n",
    "    cnn_output = mx.sym.pad(data=conv_input,\n",
    "                            mode=\"constant\",\n",
    "                            constant_value=0,\n",
    "                            pad_width=(0, 0,\n",
    "                                       0, 0,\n",
    "                                       0, sz_filt - 1, \n",
    "                                       0, 0))\n",
    "    cnn_output = mx.sym.Convolution(data=cnn_output,\n",
    "                                    kernel=(sz_filt,\n",
    "                                            input_feature_shape[2]),\n",
    "                                    num_filter=n_filter)\n",
    "    cnn_output = mx.sym.Activation(data=cnn_output, act_type='relu')\n",
    "    cnn_output = mx.sym.reshape(mx.sym.transpose(data=cnn_output,\n",
    "                                                 axes=(0, 2, 1, 3)),\n",
    "                                shape=(0, 0, 0))\n",
    "    cnn_output = mx.sym.Dropout(cnn_output, p=drop)\n",
    "\n",
    "    ## recurrent element\n",
    "    stacked_rnn_cells = mx.rnn.SequentialRNNCell()\n",
    "    stacked_rnn_cells.add(mx.rnn.GRUCell(num_hidden=RNN_UNITS))\n",
    "    outputs, _ = stacked_rnn_cells.unroll(length=win,\n",
    "                                          inputs=cnn_output,\n",
    "                                          merge_outputs=False)\n",
    "    rnn_output = outputs[-1] # only take value from final unrolled cell for use later\n",
    "    n_outputs = input_feature_shape[2]\n",
    "    cnn_rnn_model = mx.sym.FullyConnected(data=rnn_output,\n",
    "                                          num_hidden=n_outputs)\n",
    "\n",
    "    ## ar element\n",
    "    ar_outputs = []\n",
    "    for i in list(range(input_feature_shape[2])):\n",
    "        ar_series = mx.sym.slice_axis(data=X,\n",
    "                                      axis=2,\n",
    "                                      begin=i,\n",
    "                                      end=i+1)\n",
    "        fc_ar = mx.sym.FullyConnected(data=ar_series, num_hidden=1)\n",
    "        ar_outputs.append(fc_ar)\n",
    "    ar_model = mx.sym.concat(*ar_outputs, dim=1)\n",
    "\n",
    "    output = cnn_rnn_model + ar_model\n",
    "    loss_grad = mx.sym.LinearRegressionOutput(data=output, label=Y)\n",
    "    return (loss_grad,\n",
    "            [v.name for v in iter_train.provide_data],\n",
    "            [v.name for v in iter_train.provide_label])"
   ]
  },
  {
   "cell_type": "code",
   "execution_count": 35,
   "id": "d98f1f79-592c-42ee-ac43-6cafd38db14f",
   "metadata": {},
   "outputs": [
    {
     "name": "stdout",
     "output_type": "stream",
     "text": [
      "Epoch     Training Cor     Validation Cor\n"
     ]
    },
    {
     "name": "stderr",
     "output_type": "stream",
     "text": [
      "[08:29:31] ../src/executor/graph_executor.cc:1991: Subgraph backend MKLDNN is activated.\n"
     ]
    },
    {
     "name": "stdout",
     "output_type": "stream",
     "text": [
      "0         0.045486       0.038598 \n",
      "1         0.066211       0.057908 \n"
     ]
    },
    {
     "ename": "KeyboardInterrupt",
     "evalue": "",
     "output_type": "error",
     "traceback": [
      "\u001b[0;31m---------------------------------------------------------------------------\u001b[0m",
      "\u001b[0;31mKeyboardInterrupt\u001b[0m                         Traceback (most recent call last)",
      "\u001b[0;32m/tmp/ipykernel_440/1473952301.py\u001b[0m in \u001b[0;36m<module>\u001b[0;34m\u001b[0m\n\u001b[1;32m     25\u001b[0m \u001b[0;34m\u001b[0m\u001b[0m\n\u001b[1;32m     26\u001b[0m \u001b[0;31m## train\u001b[0m\u001b[0;34m\u001b[0m\u001b[0;34m\u001b[0m\u001b[0;34m\u001b[0m\u001b[0m\n\u001b[0;32m---> 27\u001b[0;31m \u001b[0mtrain\u001b[0m\u001b[0;34m(\u001b[0m\u001b[0msymbol\u001b[0m\u001b[0;34m,\u001b[0m \u001b[0miter_train\u001b[0m\u001b[0;34m,\u001b[0m \u001b[0miter_val\u001b[0m\u001b[0;34m,\u001b[0m \u001b[0miter_test\u001b[0m\u001b[0;34m,\u001b[0m \u001b[0mdata_names\u001b[0m\u001b[0;34m,\u001b[0m \u001b[0mlabel_names\u001b[0m\u001b[0;34m,\u001b[0m \u001b[0mSAVE_DIR\u001b[0m\u001b[0;34m)\u001b[0m\u001b[0;34m\u001b[0m\u001b[0;34m\u001b[0m\u001b[0m\n\u001b[0m",
      "\u001b[0;32m/tmp/ipykernel_440/1295507539.py\u001b[0m in \u001b[0;36mtrain\u001b[0;34m(symbol, iter_train, valid_iter, iter_test, data_names, label_names, save_dir, gpu)\u001b[0m\n\u001b[1;32m     49\u001b[0m \u001b[0;34m\u001b[0m\u001b[0m\n\u001b[1;32m     50\u001b[0m         \u001b[0;31m## training results\u001b[0m\u001b[0;34m\u001b[0m\u001b[0;34m\u001b[0m\u001b[0;34m\u001b[0m\u001b[0m\n\u001b[0;32m---> 51\u001b[0;31m         \u001b[0mtrain_pred\u001b[0m  \u001b[0;34m=\u001b[0m \u001b[0mmodule\u001b[0m\u001b[0;34m.\u001b[0m\u001b[0mpredict\u001b[0m\u001b[0;34m(\u001b[0m\u001b[0miter_train\u001b[0m\u001b[0;34m)\u001b[0m\u001b[0;34m.\u001b[0m\u001b[0masnumpy\u001b[0m\u001b[0;34m(\u001b[0m\u001b[0;34m)\u001b[0m\u001b[0;34m\u001b[0m\u001b[0;34m\u001b[0m\u001b[0m\n\u001b[0m\u001b[1;32m     52\u001b[0m         \u001b[0mtrain_label\u001b[0m \u001b[0;34m=\u001b[0m \u001b[0miter_train\u001b[0m\u001b[0;34m.\u001b[0m\u001b[0mlabel\u001b[0m\u001b[0;34m[\u001b[0m\u001b[0;36m0\u001b[0m\u001b[0;34m]\u001b[0m\u001b[0;34m[\u001b[0m\u001b[0;36m1\u001b[0m\u001b[0;34m]\u001b[0m\u001b[0;34m.\u001b[0m\u001b[0masnumpy\u001b[0m\u001b[0;34m(\u001b[0m\u001b[0;34m)\u001b[0m\u001b[0;34m\u001b[0m\u001b[0;34m\u001b[0m\u001b[0m\n\u001b[1;32m     53\u001b[0m         train_perf  = evaluate_and_write(\n",
      "\u001b[0;32m/opt/conda/lib/python3.9/site-packages/mxnet/ndarray/ndarray.py\u001b[0m in \u001b[0;36masnumpy\u001b[0;34m(self)\u001b[0m\n\u001b[1;32m   2566\u001b[0m         \"\"\"\n\u001b[1;32m   2567\u001b[0m         \u001b[0mdata\u001b[0m \u001b[0;34m=\u001b[0m \u001b[0mnp\u001b[0m\u001b[0;34m.\u001b[0m\u001b[0mempty\u001b[0m\u001b[0;34m(\u001b[0m\u001b[0mself\u001b[0m\u001b[0;34m.\u001b[0m\u001b[0mshape\u001b[0m\u001b[0;34m,\u001b[0m \u001b[0mdtype\u001b[0m\u001b[0;34m=\u001b[0m\u001b[0mself\u001b[0m\u001b[0;34m.\u001b[0m\u001b[0mdtype\u001b[0m\u001b[0;34m)\u001b[0m\u001b[0;34m\u001b[0m\u001b[0;34m\u001b[0m\u001b[0m\n\u001b[0;32m-> 2568\u001b[0;31m         check_call(_LIB.MXNDArraySyncCopyToCPU(\n\u001b[0m\u001b[1;32m   2569\u001b[0m             \u001b[0mself\u001b[0m\u001b[0;34m.\u001b[0m\u001b[0mhandle\u001b[0m\u001b[0;34m,\u001b[0m\u001b[0;34m\u001b[0m\u001b[0;34m\u001b[0m\u001b[0m\n\u001b[1;32m   2570\u001b[0m             \u001b[0mdata\u001b[0m\u001b[0;34m.\u001b[0m\u001b[0mctypes\u001b[0m\u001b[0;34m.\u001b[0m\u001b[0mdata_as\u001b[0m\u001b[0;34m(\u001b[0m\u001b[0mctypes\u001b[0m\u001b[0;34m.\u001b[0m\u001b[0mc_void_p\u001b[0m\u001b[0;34m)\u001b[0m\u001b[0;34m,\u001b[0m\u001b[0;34m\u001b[0m\u001b[0;34m\u001b[0m\u001b[0m\n",
      "\u001b[0;31mKeyboardInterrupt\u001b[0m: "
     ]
    }
   ],
   "source": [
    "# create data iterators\n",
    "iter_train, iter_val, iter_test = prepare_iters(DATA_FILE, WIN, H, 'not_fc_model', BATCH_N)\n",
    "\n",
    "## prepare symbols\n",
    "input_feature_shape = iter_train.provide_data[0][1]\n",
    "X = mx.sym.Variable(iter_train.provide_data[0].name)\n",
    "Y = mx.sym.Variable(iter_train.provide_label[0].name)\n",
    "\n",
    "# # set up model\n",
    "# model_dict = {\n",
    "#     'fc_model'            : fc_model,\n",
    "#     'rnn_model'           : rnn_model,\n",
    "#     'cnn_model'           : cnn_model,\n",
    "#     'simple_lstnet_model' : simple_lstnet_model\n",
    "# }\n",
    "# model = model_dict[MODEL]\n",
    "model = simple_lstnet_model\n",
    "\n",
    "symbol, data_names, label_names = model(\n",
    "    iter_train,\n",
    "    input_feature_shape, X, Y,\n",
    "    WIN, SZ_FILT,\n",
    "    N_FILT, DROP, SEASONAL_PERIOD\n",
    ")\n",
    "\n",
    "## train \n",
    "train(symbol, iter_train, iter_val, iter_test, data_names, label_names, SAVE_DIR)"
   ]
  },
  {
   "cell_type": "code",
   "execution_count": null,
   "id": "2e53444c-24c4-4d0e-948d-ef16270ec0ad",
   "metadata": {},
   "outputs": [],
   "source": []
  }
 ],
 "metadata": {
  "kernelspec": {
   "display_name": "Python 3 (ipykernel)",
   "language": "python",
   "name": "python3"
  },
  "language_info": {
   "codemirror_mode": {
    "name": "ipython",
    "version": 3
   },
   "file_extension": ".py",
   "mimetype": "text/x-python",
   "name": "python",
   "nbconvert_exporter": "python",
   "pygments_lexer": "ipython3",
   "version": "3.9.5"
  }
 },
 "nbformat": 4,
 "nbformat_minor": 5
}
