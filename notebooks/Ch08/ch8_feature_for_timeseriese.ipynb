{
 "cells": [
  {
   "cell_type": "markdown",
   "id": "9fef69ba-1adf-472f-b111-d33d02687ed2",
   "metadata": {},
   "source": [
    "# Ch8 特徴量の生成と選択"
   ]
  },
  {
   "cell_type": "code",
   "execution_count": 1,
   "id": "92357ffb-34bc-4d71-8843-97507ceb3c11",
   "metadata": {},
   "outputs": [],
   "source": [
    "import numpy as np\n",
    "import pandas as pd\n",
    "\n",
    "%matplotlib inline\n",
    "import matplotlib.pyplot as plt\n",
    "import seaborn as sns\n",
    "sns.set(font_scale = 1.5)\n",
    "c_list = sns.color_palette().as_hex()\n",
    "color_num = len(c_list)"
   ]
  },
  {
   "cell_type": "markdown",
   "id": "26d82765-097c-4518-8e0b-e239051f6751",
   "metadata": {},
   "source": [
    "## 8.1 簡単な例"
   ]
  },
  {
   "cell_type": "code",
   "execution_count": 2,
   "id": "3451dc7d-83e0-43c3-bd54-6682ac15892d",
   "metadata": {},
   "outputs": [
    {
     "data": {
      "text/html": [
       "<div>\n",
       "<style scoped>\n",
       "    .dataframe tbody tr th:only-of-type {\n",
       "        vertical-align: middle;\n",
       "    }\n",
       "\n",
       "    .dataframe tbody tr th {\n",
       "        vertical-align: top;\n",
       "    }\n",
       "\n",
       "    .dataframe thead th {\n",
       "        text-align: right;\n",
       "    }\n",
       "</style>\n",
       "<table border=\"1\" class=\"dataframe\">\n",
       "  <thead>\n",
       "    <tr style=\"text-align: right;\">\n",
       "      <th></th>\n",
       "      <th></th>\n",
       "      <th>temp</th>\n",
       "    </tr>\n",
       "    <tr>\n",
       "      <th>week</th>\n",
       "      <th>t</th>\n",
       "      <th></th>\n",
       "    </tr>\n",
       "  </thead>\n",
       "  <tbody>\n",
       "    <tr>\n",
       "      <th rowspan=\"3\" valign=\"top\">Mon</th>\n",
       "      <th>m</th>\n",
       "      <td>35</td>\n",
       "    </tr>\n",
       "    <tr>\n",
       "      <th>l</th>\n",
       "      <td>52</td>\n",
       "    </tr>\n",
       "    <tr>\n",
       "      <th>n</th>\n",
       "      <td>15</td>\n",
       "    </tr>\n",
       "    <tr>\n",
       "      <th rowspan=\"3\" valign=\"top\">Tue</th>\n",
       "      <th>m</th>\n",
       "      <td>37</td>\n",
       "    </tr>\n",
       "    <tr>\n",
       "      <th>l</th>\n",
       "      <td>52</td>\n",
       "    </tr>\n",
       "    <tr>\n",
       "      <th>n</th>\n",
       "      <td>15</td>\n",
       "    </tr>\n",
       "    <tr>\n",
       "      <th rowspan=\"3\" valign=\"top\">Wed</th>\n",
       "      <th>m</th>\n",
       "      <td>37</td>\n",
       "    </tr>\n",
       "    <tr>\n",
       "      <th>l</th>\n",
       "      <td>54</td>\n",
       "    </tr>\n",
       "    <tr>\n",
       "      <th>n</th>\n",
       "      <td>16</td>\n",
       "    </tr>\n",
       "    <tr>\n",
       "      <th rowspan=\"3\" valign=\"top\">Thu</th>\n",
       "      <th>m</th>\n",
       "      <td>39</td>\n",
       "    </tr>\n",
       "    <tr>\n",
       "      <th>l</th>\n",
       "      <td>51</td>\n",
       "    </tr>\n",
       "    <tr>\n",
       "      <th>n</th>\n",
       "      <td>12</td>\n",
       "    </tr>\n",
       "    <tr>\n",
       "      <th rowspan=\"3\" valign=\"top\">Fri</th>\n",
       "      <th>m</th>\n",
       "      <td>41</td>\n",
       "    </tr>\n",
       "    <tr>\n",
       "      <th>l</th>\n",
       "      <td>55</td>\n",
       "    </tr>\n",
       "    <tr>\n",
       "      <th>n</th>\n",
       "      <td>20</td>\n",
       "    </tr>\n",
       "    <tr>\n",
       "      <th rowspan=\"3\" valign=\"top\">Sat</th>\n",
       "      <th>m</th>\n",
       "      <td>43</td>\n",
       "    </tr>\n",
       "    <tr>\n",
       "      <th>l</th>\n",
       "      <td>58</td>\n",
       "    </tr>\n",
       "    <tr>\n",
       "      <th>n</th>\n",
       "      <td>22</td>\n",
       "    </tr>\n",
       "    <tr>\n",
       "      <th rowspan=\"3\" valign=\"top\">Sun</th>\n",
       "      <th>m</th>\n",
       "      <td>46</td>\n",
       "    </tr>\n",
       "    <tr>\n",
       "      <th>l</th>\n",
       "      <td>61</td>\n",
       "    </tr>\n",
       "    <tr>\n",
       "      <th>n</th>\n",
       "      <td>35</td>\n",
       "    </tr>\n",
       "  </tbody>\n",
       "</table>\n",
       "</div>"
      ],
      "text/plain": [
       "        temp\n",
       "week t      \n",
       "Mon  m    35\n",
       "     l    52\n",
       "     n    15\n",
       "Tue  m    37\n",
       "     l    52\n",
       "     n    15\n",
       "Wed  m    37\n",
       "     l    54\n",
       "     n    16\n",
       "Thu  m    39\n",
       "     l    51\n",
       "     n    12\n",
       "Fri  m    41\n",
       "     l    55\n",
       "     n    20\n",
       "Sat  m    43\n",
       "     l    58\n",
       "     n    22\n",
       "Sun  m    46\n",
       "     l    61\n",
       "     n    35"
      ]
     },
     "metadata": {},
     "output_type": "display_data"
    }
   ],
   "source": [
    "df_temp = pd.DataFrame(\n",
    "    {\n",
    "        \"week\":[\n",
    "            \"Mon\", \"Mon\", \"Mon\", \"Tue\", \"Tue\", \"Tue\", \n",
    "            \"Wed\", \"Wed\", \"Wed\", \"Thu\", \"Thu\", \"Thu\", \n",
    "            \"Fri\", \"Fri\", \"Fri\", \"Sat\", \"Sat\", \"Sat\", \n",
    "            \"Sun\", \"Sun\", \"Sun\", \n",
    "        ], \n",
    "        \"t\":[\n",
    "            \"m\", \"l\", \"n\", \"m\", \"l\", \"n\", \n",
    "            \"m\", \"l\", \"n\", \"m\", \"l\", \"n\", \n",
    "            \"m\", \"l\", \"n\", \"m\", \"l\", \"n\", \n",
    "            \"m\", \"l\", \"n\", \n",
    "        ], \n",
    "        \"temp\":[\n",
    "            35, 52, 15, 37, 52, 15, 37, 54, 16, 39, 51, 12, \n",
    "            41, 55, 20, 43, 58, 22, 46, 61, 35\n",
    "        ]\n",
    "    }\n",
    ")\n",
    "df_temp.set_index([\"week\", \"t\"], inplace=True)\n",
    "display(df_temp)"
   ]
  },
  {
   "cell_type": "code",
   "execution_count": 3,
   "id": "b79ce6e5-e389-4709-9199-dbb8fa6f1b7a",
   "metadata": {},
   "outputs": [
    {
     "data": {
      "image/png": "[encoded data removed]",
      "text/plain": [
       "<Figure size 720x288 with 1 Axes>"
      ]
     },
     "metadata": {},
     "output_type": "display_data"
    }
   ],
   "source": [
    "fig = plt.figure(figsize=(10, 4))\n",
    "ax = fig.subplots(1, 1)\n",
    "df_temp.plot(y=\"temp\", marker=\"o\", ax=ax);"
   ]
  },
  {
   "cell_type": "markdown",
   "id": "94c5d1b2-08b3-40a4-9d57-f29bedf528a3",
   "metadata": {},
   "source": [
    "このような日次の周期と上昇トレンドを持った系列データ。\n",
    "このデータを要約する特徴量がいくつか考えられる。"
   ]
  },
  {
   "cell_type": "markdown",
   "id": "86284a81-0119-4e8c-9f16-4d0de986b6ec",
   "metadata": {},
   "source": [
    "## 8.4 特徴量の自動生成と自動選択"
   ]
  },
  {
   "cell_type": "code",
   "execution_count": 4,
   "id": "6efa6ba9-a449-43a0-81ec-7db1bafa4884",
   "metadata": {
    "tags": []
   },
   "outputs": [],
   "source": [
    "#!pip install tsfresh"
   ]
  },
  {
   "cell_type": "code",
   "execution_count": 5,
   "id": "f68d2584-e5a9-48a5-82f3-01122da08f3d",
   "metadata": {},
   "outputs": [],
   "source": [
    "from tsfresh.examples.robot_execution_failures import (\n",
    "    download_robot_execution_failures, \n",
    "    load_robot_execution_failures\n",
    ")\n",
    "from tsfresh import extract_features\n",
    "import tsfresh"
   ]
  },
  {
   "cell_type": "code",
   "execution_count": 6,
   "id": "1b3d099f-0373-46d4-bd9f-fbb63b440ed3",
   "metadata": {},
   "outputs": [
    {
     "data": {
      "text/plain": [
       "pandas.core.frame.DataFrame"
      ]
     },
     "metadata": {},
     "output_type": "display_data"
    },
    {
     "data": {
      "text/plain": [
       "pandas.core.series.Series"
      ]
     },
     "metadata": {},
     "output_type": "display_data"
    }
   ],
   "source": [
    "download_robot_execution_failures()\n",
    "timeseries, y = load_robot_execution_failures()\n",
    "\n",
    "display(type(timeseries)) # time series data\n",
    "display(type(y)) # target vector"
   ]
  },
  {
   "cell_type": "markdown",
   "id": "aca8d539-ff7e-409c-8b8b-8df86688becb",
   "metadata": {},
   "source": [
    "### robot_execution_failuresデータの確認\n",
    "\n",
    "このデータが何なのか確認する。"
   ]
  },
  {
   "cell_type": "code",
   "execution_count": 7,
   "id": "6131889c-ca34-422b-badb-970d9e44d84d",
   "metadata": {
    "tags": []
   },
   "outputs": [
    {
     "name": "stdout",
     "output_type": "stream",
     "text": [
      "Help on module tsfresh.examples.robot_execution_failures in tsfresh.examples:\n",
      "\n",
      "NAME\n",
      "    tsfresh.examples.robot_execution_failures\n",
      "\n",
      "DESCRIPTION\n",
      "    This module implements functions to download the Robot Execution Failures LP1 Data Set [1]_, [2]_, [3]_ and load it as\n",
      "    as DataFrame.\n",
      "    \n",
      "    *Important:* You need to download the data set yourself, either manually or via the function\n",
      "    :func:`~tsfresh.examples.robot_execution_failures.download_robot_execution_failures`\n",
      "    \n",
      "    References\n",
      "    ----------\n",
      "    .. [1] https://archive.ics.uci.edu/ml/datasets/Robot+Execution+Failures\n",
      "    .. [2] Lichman, M. (2013).\n",
      "        UCI Machine Learning Repository [https://archive.ics.uci.edu/ml].\n",
      "        Irvine, CA: University of California, School of Information and Computer Science.\n",
      "    .. [3] Camarinha-Matos, L.M., L. Seabra Lopes, and J. Barata (1996).\n",
      "        Integration and Learning in Supervision of Flexible Assembly Systems.\n",
      "        \"IEEE Transactions on Robotics and Automation\", 12 (2), 202-219\n",
      "\n",
      "FUNCTIONS\n",
      "    download_robot_execution_failures(file_name='/opt/conda/lib/python3.9/site-packages/tsfresh/examples/data/robotfailure-mld/lp1.data')\n",
      "        Download the Robot Execution Failures LP1 Data Set[#1] from the UCI Machine Learning Repository [#2] and store it\n",
      "        locally.\n",
      "        \n",
      "        :return:\n",
      "        \n",
      "        Examples\n",
      "        ========\n",
      "        \n",
      "        >>> from tsfresh.examples import download_robot_execution_failures\n",
      "        >>> download_robot_execution_failures()\n",
      "    \n",
      "    load_robot_execution_failures(multiclass=False, file_name='/opt/conda/lib/python3.9/site-packages/tsfresh/examples/data/robotfailure-mld/lp1.data')\n",
      "        Load the Robot Execution Failures LP1 Data Set[1].\n",
      "        The Time series are passed as a flat DataFrame.\n",
      "        \n",
      "        Examples\n",
      "        ========\n",
      "        \n",
      "        >>> from tsfresh.examples import load_robot_execution_failures\n",
      "        >>> df, y = load_robot_execution_failures()\n",
      "        >>> print(df.shape)\n",
      "        (1320, 8)\n",
      "        \n",
      "        :param multiclass: If True, return all target labels. The default returns only \"normal\" vs all other labels.\n",
      "        :type multiclass: bool\n",
      "        :return: time series data as :class:`pandas.DataFrame` and target vector as :class:`pandas.Series`\n",
      "        :rtype: tuple\n",
      "\n",
      "DATA\n",
      "    UCI_MLD_REF_MSG = 'The example data could not be found. You need to......\n",
      "    UCI_MLD_REF_URL = 'https://raw.githubusercontent.com/MaxBenChrist/robo...\n",
      "    data_file_name = '/opt/conda/lib/python3.9/site-packages/tsfresh/examp...\n",
      "    module_path = '/opt/conda/lib/python3.9/site-packages/tsfresh/examples...\n",
      "\n",
      "FILE\n",
      "    /opt/conda/lib/python3.9/site-packages/tsfresh/examples/robot_execution_failures.py\n",
      "\n",
      "\n"
     ]
    }
   ],
   "source": [
    "help(tsfresh.examples.robot_execution_failures)"
   ]
  },
  {
   "cell_type": "markdown",
   "id": "93451c73-ab31-497d-a511-cb966fc47eb2",
   "metadata": {},
   "source": [
    "`LP1 dataset`というのは[ダウンロード元](https://archive.ics.uci.edu/ml/datasets/Robot+Execution+Failures)を確認すると、 `LP1: failures in approach to grasp position` と書かれている。\n",
    "\n",
    "> each failure instance is characterized in terms of 15 force/torque samples collected at regular time intervals starting immediately after failure detection\n",
    "\n",
    "ということなので、障害検出後のForceとTorqueの計測結果ということ。\n",
    "\n",
    "`target vector`って何？？\n",
    "\n",
    "`target vector`については、[tsfreshのDocument](https://tsfresh.readthedocs.io/en/v0.3.0/text/quick_start.html#quick-start-label)に書かれてた。\n",
    "\n",
    "ロボットが把持を成功させたケース（y=True）と失敗したケース(y=False)でのForceとTorqueの計測結果ということ。"
   ]
  },
  {
   "cell_type": "code",
   "execution_count": 8,
   "id": "2d034862-743a-4f15-b503-b6bcf1dc29de",
   "metadata": {},
   "outputs": [
    {
     "data": {
      "text/plain": [
       "(1320, 8)"
      ]
     },
     "metadata": {},
     "output_type": "display_data"
    },
    {
     "data": {
      "text/plain": [
       "(88,)"
      ]
     },
     "metadata": {},
     "output_type": "display_data"
    }
   ],
   "source": [
    "display(timeseries.shape)\n",
    "display(y.shape)"
   ]
  },
  {
   "cell_type": "code",
   "execution_count": 9,
   "id": "f39c487f-7b40-41cd-99bd-97a150e7d9bc",
   "metadata": {},
   "outputs": [
    {
     "data": {
      "text/html": [
       "<div>\n",
       "<style scoped>\n",
       "    .dataframe tbody tr th:only-of-type {\n",
       "        vertical-align: middle;\n",
       "    }\n",
       "\n",
       "    .dataframe tbody tr th {\n",
       "        vertical-align: top;\n",
       "    }\n",
       "\n",
       "    .dataframe thead th {\n",
       "        text-align: right;\n",
       "    }\n",
       "</style>\n",
       "<table border=\"1\" class=\"dataframe\">\n",
       "  <thead>\n",
       "    <tr style=\"text-align: right;\">\n",
       "      <th></th>\n",
       "      <th>id</th>\n",
       "      <th>time</th>\n",
       "      <th>F_x</th>\n",
       "      <th>F_y</th>\n",
       "      <th>F_z</th>\n",
       "      <th>T_x</th>\n",
       "      <th>T_y</th>\n",
       "      <th>T_z</th>\n",
       "    </tr>\n",
       "  </thead>\n",
       "  <tbody>\n",
       "    <tr>\n",
       "      <th>0</th>\n",
       "      <td>1</td>\n",
       "      <td>0</td>\n",
       "      <td>-1</td>\n",
       "      <td>-1</td>\n",
       "      <td>63</td>\n",
       "      <td>-3</td>\n",
       "      <td>-1</td>\n",
       "      <td>0</td>\n",
       "    </tr>\n",
       "    <tr>\n",
       "      <th>1</th>\n",
       "      <td>1</td>\n",
       "      <td>1</td>\n",
       "      <td>0</td>\n",
       "      <td>0</td>\n",
       "      <td>62</td>\n",
       "      <td>-3</td>\n",
       "      <td>-1</td>\n",
       "      <td>0</td>\n",
       "    </tr>\n",
       "    <tr>\n",
       "      <th>2</th>\n",
       "      <td>1</td>\n",
       "      <td>2</td>\n",
       "      <td>-1</td>\n",
       "      <td>-1</td>\n",
       "      <td>61</td>\n",
       "      <td>-3</td>\n",
       "      <td>0</td>\n",
       "      <td>0</td>\n",
       "    </tr>\n",
       "    <tr>\n",
       "      <th>3</th>\n",
       "      <td>1</td>\n",
       "      <td>3</td>\n",
       "      <td>-1</td>\n",
       "      <td>-1</td>\n",
       "      <td>63</td>\n",
       "      <td>-2</td>\n",
       "      <td>-1</td>\n",
       "      <td>0</td>\n",
       "    </tr>\n",
       "    <tr>\n",
       "      <th>4</th>\n",
       "      <td>1</td>\n",
       "      <td>4</td>\n",
       "      <td>-1</td>\n",
       "      <td>-1</td>\n",
       "      <td>63</td>\n",
       "      <td>-3</td>\n",
       "      <td>-1</td>\n",
       "      <td>0</td>\n",
       "    </tr>\n",
       "  </tbody>\n",
       "</table>\n",
       "</div>"
      ],
      "text/plain": [
       "   id  time  F_x  F_y  F_z  T_x  T_y  T_z\n",
       "0   1     0   -1   -1   63   -3   -1    0\n",
       "1   1     1    0    0   62   -3   -1    0\n",
       "2   1     2   -1   -1   61   -3    0    0\n",
       "3   1     3   -1   -1   63   -2   -1    0\n",
       "4   1     4   -1   -1   63   -3   -1    0"
      ]
     },
     "execution_count": 9,
     "metadata": {},
     "output_type": "execute_result"
    }
   ],
   "source": [
    "timeseries.head()"
   ]
  },
  {
   "cell_type": "code",
   "execution_count": 10,
   "id": "c9468246-e7f5-49ce-9795-1a2ede39aa6a",
   "metadata": {},
   "outputs": [
    {
     "data": {
      "text/html": [
       "<div>\n",
       "<style scoped>\n",
       "    .dataframe tbody tr th:only-of-type {\n",
       "        vertical-align: middle;\n",
       "    }\n",
       "\n",
       "    .dataframe tbody tr th {\n",
       "        vertical-align: top;\n",
       "    }\n",
       "\n",
       "    .dataframe thead th {\n",
       "        text-align: right;\n",
       "    }\n",
       "</style>\n",
       "<table border=\"1\" class=\"dataframe\">\n",
       "  <thead>\n",
       "    <tr style=\"text-align: right;\">\n",
       "      <th></th>\n",
       "      <th>time</th>\n",
       "      <th>F_x</th>\n",
       "      <th>F_y</th>\n",
       "      <th>F_z</th>\n",
       "      <th>T_x</th>\n",
       "      <th>T_y</th>\n",
       "      <th>T_z</th>\n",
       "    </tr>\n",
       "    <tr>\n",
       "      <th>id</th>\n",
       "      <th></th>\n",
       "      <th></th>\n",
       "      <th></th>\n",
       "      <th></th>\n",
       "      <th></th>\n",
       "      <th></th>\n",
       "      <th></th>\n",
       "    </tr>\n",
       "  </thead>\n",
       "  <tbody>\n",
       "    <tr>\n",
       "      <th>1</th>\n",
       "      <td>15</td>\n",
       "      <td>15</td>\n",
       "      <td>15</td>\n",
       "      <td>15</td>\n",
       "      <td>15</td>\n",
       "      <td>15</td>\n",
       "      <td>15</td>\n",
       "    </tr>\n",
       "    <tr>\n",
       "      <th>2</th>\n",
       "      <td>15</td>\n",
       "      <td>15</td>\n",
       "      <td>15</td>\n",
       "      <td>15</td>\n",
       "      <td>15</td>\n",
       "      <td>15</td>\n",
       "      <td>15</td>\n",
       "    </tr>\n",
       "    <tr>\n",
       "      <th>3</th>\n",
       "      <td>15</td>\n",
       "      <td>15</td>\n",
       "      <td>15</td>\n",
       "      <td>15</td>\n",
       "      <td>15</td>\n",
       "      <td>15</td>\n",
       "      <td>15</td>\n",
       "    </tr>\n",
       "    <tr>\n",
       "      <th>4</th>\n",
       "      <td>15</td>\n",
       "      <td>15</td>\n",
       "      <td>15</td>\n",
       "      <td>15</td>\n",
       "      <td>15</td>\n",
       "      <td>15</td>\n",
       "      <td>15</td>\n",
       "    </tr>\n",
       "    <tr>\n",
       "      <th>5</th>\n",
       "      <td>15</td>\n",
       "      <td>15</td>\n",
       "      <td>15</td>\n",
       "      <td>15</td>\n",
       "      <td>15</td>\n",
       "      <td>15</td>\n",
       "      <td>15</td>\n",
       "    </tr>\n",
       "    <tr>\n",
       "      <th>...</th>\n",
       "      <td>...</td>\n",
       "      <td>...</td>\n",
       "      <td>...</td>\n",
       "      <td>...</td>\n",
       "      <td>...</td>\n",
       "      <td>...</td>\n",
       "      <td>...</td>\n",
       "    </tr>\n",
       "    <tr>\n",
       "      <th>84</th>\n",
       "      <td>15</td>\n",
       "      <td>15</td>\n",
       "      <td>15</td>\n",
       "      <td>15</td>\n",
       "      <td>15</td>\n",
       "      <td>15</td>\n",
       "      <td>15</td>\n",
       "    </tr>\n",
       "    <tr>\n",
       "      <th>85</th>\n",
       "      <td>15</td>\n",
       "      <td>15</td>\n",
       "      <td>15</td>\n",
       "      <td>15</td>\n",
       "      <td>15</td>\n",
       "      <td>15</td>\n",
       "      <td>15</td>\n",
       "    </tr>\n",
       "    <tr>\n",
       "      <th>86</th>\n",
       "      <td>15</td>\n",
       "      <td>15</td>\n",
       "      <td>15</td>\n",
       "      <td>15</td>\n",
       "      <td>15</td>\n",
       "      <td>15</td>\n",
       "      <td>15</td>\n",
       "    </tr>\n",
       "    <tr>\n",
       "      <th>87</th>\n",
       "      <td>15</td>\n",
       "      <td>15</td>\n",
       "      <td>15</td>\n",
       "      <td>15</td>\n",
       "      <td>15</td>\n",
       "      <td>15</td>\n",
       "      <td>15</td>\n",
       "    </tr>\n",
       "    <tr>\n",
       "      <th>88</th>\n",
       "      <td>15</td>\n",
       "      <td>15</td>\n",
       "      <td>15</td>\n",
       "      <td>15</td>\n",
       "      <td>15</td>\n",
       "      <td>15</td>\n",
       "      <td>15</td>\n",
       "    </tr>\n",
       "  </tbody>\n",
       "</table>\n",
       "<p>88 rows × 7 columns</p>\n",
       "</div>"
      ],
      "text/plain": [
       "    time  F_x  F_y  F_z  T_x  T_y  T_z\n",
       "id                                    \n",
       "1     15   15   15   15   15   15   15\n",
       "2     15   15   15   15   15   15   15\n",
       "3     15   15   15   15   15   15   15\n",
       "4     15   15   15   15   15   15   15\n",
       "5     15   15   15   15   15   15   15\n",
       "..   ...  ...  ...  ...  ...  ...  ...\n",
       "84    15   15   15   15   15   15   15\n",
       "85    15   15   15   15   15   15   15\n",
       "86    15   15   15   15   15   15   15\n",
       "87    15   15   15   15   15   15   15\n",
       "88    15   15   15   15   15   15   15\n",
       "\n",
       "[88 rows x 7 columns]"
      ]
     },
     "execution_count": 10,
     "metadata": {},
     "output_type": "execute_result"
    }
   ],
   "source": [
    "timeseries.groupby(\"id\").count()"
   ]
  },
  {
   "cell_type": "code",
   "execution_count": 11,
   "id": "2b453b32-0439-4dcc-af0f-b50ef8aed053",
   "metadata": {},
   "outputs": [
    {
     "data": {
      "text/plain": [
       "1    True\n",
       "2    True\n",
       "3    True\n",
       "4    True\n",
       "5    True\n",
       "dtype: bool"
      ]
     },
     "execution_count": 11,
     "metadata": {},
     "output_type": "execute_result"
    }
   ],
   "source": [
    "y.head()"
   ]
  },
  {
   "cell_type": "code",
   "execution_count": 12,
   "id": "342fd538-7555-45bd-b782-e8cd2638f38e",
   "metadata": {},
   "outputs": [
    {
     "data": {
      "text/plain": [
       "19    False\n",
       "20    False\n",
       "21    False\n",
       "22    False\n",
       "23    False\n",
       "      ...  \n",
       "84    False\n",
       "85    False\n",
       "86    False\n",
       "87    False\n",
       "88    False\n",
       "Length: 67, dtype: bool"
      ]
     },
     "execution_count": 12,
     "metadata": {},
     "output_type": "execute_result"
    }
   ],
   "source": [
    "y[~y]"
   ]
  },
  {
   "cell_type": "code",
   "execution_count": 13,
   "id": "0c862278-cb5b-4b37-9940-da3df70f9044",
   "metadata": {},
   "outputs": [],
   "source": [
    "grp = timeseries.groupby(\"id\")"
   ]
  },
  {
   "cell_type": "code",
   "execution_count": 14,
   "id": "e4fba2cc-7e7e-4600-929b-452731d4eb68",
   "metadata": {},
   "outputs": [
    {
     "data": {
      "text/html": [
       "<div>\n",
       "<style scoped>\n",
       "    .dataframe tbody tr th:only-of-type {\n",
       "        vertical-align: middle;\n",
       "    }\n",
       "\n",
       "    .dataframe tbody tr th {\n",
       "        vertical-align: top;\n",
       "    }\n",
       "\n",
       "    .dataframe thead th {\n",
       "        text-align: right;\n",
       "    }\n",
       "</style>\n",
       "<table border=\"1\" class=\"dataframe\">\n",
       "  <thead>\n",
       "    <tr style=\"text-align: right;\">\n",
       "      <th></th>\n",
       "      <th>id</th>\n",
       "      <th>time</th>\n",
       "      <th>F_x</th>\n",
       "      <th>F_y</th>\n",
       "      <th>F_z</th>\n",
       "      <th>T_x</th>\n",
       "      <th>T_y</th>\n",
       "      <th>T_z</th>\n",
       "    </tr>\n",
       "  </thead>\n",
       "  <tbody>\n",
       "    <tr>\n",
       "      <th>15</th>\n",
       "      <td>2</td>\n",
       "      <td>0</td>\n",
       "      <td>-1</td>\n",
       "      <td>-1</td>\n",
       "      <td>63</td>\n",
       "      <td>-2</td>\n",
       "      <td>-1</td>\n",
       "      <td>0</td>\n",
       "    </tr>\n",
       "    <tr>\n",
       "      <th>16</th>\n",
       "      <td>2</td>\n",
       "      <td>1</td>\n",
       "      <td>-1</td>\n",
       "      <td>-1</td>\n",
       "      <td>63</td>\n",
       "      <td>-3</td>\n",
       "      <td>-1</td>\n",
       "      <td>0</td>\n",
       "    </tr>\n",
       "    <tr>\n",
       "      <th>17</th>\n",
       "      <td>2</td>\n",
       "      <td>2</td>\n",
       "      <td>-1</td>\n",
       "      <td>-1</td>\n",
       "      <td>61</td>\n",
       "      <td>-3</td>\n",
       "      <td>0</td>\n",
       "      <td>0</td>\n",
       "    </tr>\n",
       "    <tr>\n",
       "      <th>18</th>\n",
       "      <td>2</td>\n",
       "      <td>3</td>\n",
       "      <td>0</td>\n",
       "      <td>-4</td>\n",
       "      <td>63</td>\n",
       "      <td>1</td>\n",
       "      <td>0</td>\n",
       "      <td>0</td>\n",
       "    </tr>\n",
       "    <tr>\n",
       "      <th>19</th>\n",
       "      <td>2</td>\n",
       "      <td>4</td>\n",
       "      <td>0</td>\n",
       "      <td>-1</td>\n",
       "      <td>59</td>\n",
       "      <td>-2</td>\n",
       "      <td>0</td>\n",
       "      <td>-1</td>\n",
       "    </tr>\n",
       "    <tr>\n",
       "      <th>20</th>\n",
       "      <td>2</td>\n",
       "      <td>5</td>\n",
       "      <td>-3</td>\n",
       "      <td>3</td>\n",
       "      <td>57</td>\n",
       "      <td>-8</td>\n",
       "      <td>-3</td>\n",
       "      <td>-1</td>\n",
       "    </tr>\n",
       "    <tr>\n",
       "      <th>21</th>\n",
       "      <td>2</td>\n",
       "      <td>6</td>\n",
       "      <td>-1</td>\n",
       "      <td>3</td>\n",
       "      <td>70</td>\n",
       "      <td>-10</td>\n",
       "      <td>-2</td>\n",
       "      <td>-1</td>\n",
       "    </tr>\n",
       "    <tr>\n",
       "      <th>22</th>\n",
       "      <td>2</td>\n",
       "      <td>7</td>\n",
       "      <td>0</td>\n",
       "      <td>-3</td>\n",
       "      <td>61</td>\n",
       "      <td>0</td>\n",
       "      <td>0</td>\n",
       "      <td>0</td>\n",
       "    </tr>\n",
       "    <tr>\n",
       "      <th>23</th>\n",
       "      <td>2</td>\n",
       "      <td>8</td>\n",
       "      <td>0</td>\n",
       "      <td>-2</td>\n",
       "      <td>53</td>\n",
       "      <td>-1</td>\n",
       "      <td>-2</td>\n",
       "      <td>0</td>\n",
       "    </tr>\n",
       "    <tr>\n",
       "      <th>24</th>\n",
       "      <td>2</td>\n",
       "      <td>9</td>\n",
       "      <td>0</td>\n",
       "      <td>-3</td>\n",
       "      <td>66</td>\n",
       "      <td>1</td>\n",
       "      <td>4</td>\n",
       "      <td>0</td>\n",
       "    </tr>\n",
       "    <tr>\n",
       "      <th>25</th>\n",
       "      <td>2</td>\n",
       "      <td>10</td>\n",
       "      <td>-3</td>\n",
       "      <td>3</td>\n",
       "      <td>58</td>\n",
       "      <td>-10</td>\n",
       "      <td>-5</td>\n",
       "      <td>0</td>\n",
       "    </tr>\n",
       "    <tr>\n",
       "      <th>26</th>\n",
       "      <td>2</td>\n",
       "      <td>11</td>\n",
       "      <td>-1</td>\n",
       "      <td>-1</td>\n",
       "      <td>66</td>\n",
       "      <td>-4</td>\n",
       "      <td>-2</td>\n",
       "      <td>0</td>\n",
       "    </tr>\n",
       "    <tr>\n",
       "      <th>27</th>\n",
       "      <td>2</td>\n",
       "      <td>12</td>\n",
       "      <td>-1</td>\n",
       "      <td>-2</td>\n",
       "      <td>67</td>\n",
       "      <td>-3</td>\n",
       "      <td>-1</td>\n",
       "      <td>0</td>\n",
       "    </tr>\n",
       "    <tr>\n",
       "      <th>28</th>\n",
       "      <td>2</td>\n",
       "      <td>13</td>\n",
       "      <td>0</td>\n",
       "      <td>1</td>\n",
       "      <td>66</td>\n",
       "      <td>-6</td>\n",
       "      <td>-3</td>\n",
       "      <td>-1</td>\n",
       "    </tr>\n",
       "    <tr>\n",
       "      <th>29</th>\n",
       "      <td>2</td>\n",
       "      <td>14</td>\n",
       "      <td>-1</td>\n",
       "      <td>-1</td>\n",
       "      <td>59</td>\n",
       "      <td>-3</td>\n",
       "      <td>-4</td>\n",
       "      <td>0</td>\n",
       "    </tr>\n",
       "  </tbody>\n",
       "</table>\n",
       "</div>"
      ],
      "text/plain": [
       "    id  time  F_x  F_y  F_z  T_x  T_y  T_z\n",
       "15   2     0   -1   -1   63   -2   -1    0\n",
       "16   2     1   -1   -1   63   -3   -1    0\n",
       "17   2     2   -1   -1   61   -3    0    0\n",
       "18   2     3    0   -4   63    1    0    0\n",
       "19   2     4    0   -1   59   -2    0   -1\n",
       "20   2     5   -3    3   57   -8   -3   -1\n",
       "21   2     6   -1    3   70  -10   -2   -1\n",
       "22   2     7    0   -3   61    0    0    0\n",
       "23   2     8    0   -2   53   -1   -2    0\n",
       "24   2     9    0   -3   66    1    4    0\n",
       "25   2    10   -3    3   58  -10   -5    0\n",
       "26   2    11   -1   -1   66   -4   -2    0\n",
       "27   2    12   -1   -2   67   -3   -1    0\n",
       "28   2    13    0    1   66   -6   -3   -1\n",
       "29   2    14   -1   -1   59   -3   -4    0"
      ]
     },
     "metadata": {},
     "output_type": "display_data"
    },
    {
     "data": {
      "image/png": "[encoded data removed]",
      "text/plain": [
       "<Figure size 1080x648 with 6 Axes>"
      ]
     },
     "metadata": {},
     "output_type": "display_data"
    }
   ],
   "source": [
    "# 成功事例\n",
    "grp_idx = 2\n",
    "df_tmp = grp.get_group(grp_idx)\n",
    "\n",
    "display(df_tmp)\n",
    "\n",
    "fig = plt.figure(figsize=(15, 3*3))\n",
    "ax = fig.subplots(3, 2)\n",
    "ax[0, 0].plot(df_tmp.time, df_tmp.F_x);\n",
    "ax[0, 1].plot(df_tmp.time, df_tmp.T_x);\n",
    "ax[1, 0].plot(df_tmp.time, df_tmp.F_y);\n",
    "ax[1, 1].plot(df_tmp.time, df_tmp.T_y);\n",
    "ax[2, 0].plot(df_tmp.time, df_tmp.F_z);\n",
    "ax[2, 1].plot(df_tmp.time, df_tmp.T_z);"
   ]
  },
  {
   "cell_type": "code",
   "execution_count": 15,
   "id": "2051ef50-0071-41b3-bd98-ab18082e5ddc",
   "metadata": {},
   "outputs": [
    {
     "data": {
      "text/html": [
       "<div>\n",
       "<style scoped>\n",
       "    .dataframe tbody tr th:only-of-type {\n",
       "        vertical-align: middle;\n",
       "    }\n",
       "\n",
       "    .dataframe tbody tr th {\n",
       "        vertical-align: top;\n",
       "    }\n",
       "\n",
       "    .dataframe thead th {\n",
       "        text-align: right;\n",
       "    }\n",
       "</style>\n",
       "<table border=\"1\" class=\"dataframe\">\n",
       "  <thead>\n",
       "    <tr style=\"text-align: right;\">\n",
       "      <th></th>\n",
       "      <th>id</th>\n",
       "      <th>time</th>\n",
       "      <th>F_x</th>\n",
       "      <th>F_y</th>\n",
       "      <th>F_z</th>\n",
       "      <th>T_x</th>\n",
       "      <th>T_y</th>\n",
       "      <th>T_z</th>\n",
       "    </tr>\n",
       "  </thead>\n",
       "  <tbody>\n",
       "    <tr>\n",
       "      <th>285</th>\n",
       "      <td>20</td>\n",
       "      <td>0</td>\n",
       "      <td>185</td>\n",
       "      <td>105</td>\n",
       "      <td>118</td>\n",
       "      <td>-180</td>\n",
       "      <td>374</td>\n",
       "      <td>12</td>\n",
       "    </tr>\n",
       "    <tr>\n",
       "      <th>286</th>\n",
       "      <td>20</td>\n",
       "      <td>1</td>\n",
       "      <td>-10</td>\n",
       "      <td>5</td>\n",
       "      <td>75</td>\n",
       "      <td>-36</td>\n",
       "      <td>34</td>\n",
       "      <td>-2</td>\n",
       "    </tr>\n",
       "    <tr>\n",
       "      <th>287</th>\n",
       "      <td>20</td>\n",
       "      <td>2</td>\n",
       "      <td>-1</td>\n",
       "      <td>-4</td>\n",
       "      <td>43</td>\n",
       "      <td>1</td>\n",
       "      <td>-8</td>\n",
       "      <td>0</td>\n",
       "    </tr>\n",
       "    <tr>\n",
       "      <th>288</th>\n",
       "      <td>20</td>\n",
       "      <td>3</td>\n",
       "      <td>-10</td>\n",
       "      <td>-2</td>\n",
       "      <td>64</td>\n",
       "      <td>3</td>\n",
       "      <td>-19</td>\n",
       "      <td>0</td>\n",
       "    </tr>\n",
       "    <tr>\n",
       "      <th>289</th>\n",
       "      <td>20</td>\n",
       "      <td>4</td>\n",
       "      <td>0</td>\n",
       "      <td>-2</td>\n",
       "      <td>66</td>\n",
       "      <td>1</td>\n",
       "      <td>0</td>\n",
       "      <td>0</td>\n",
       "    </tr>\n",
       "    <tr>\n",
       "      <th>290</th>\n",
       "      <td>20</td>\n",
       "      <td>5</td>\n",
       "      <td>0</td>\n",
       "      <td>1</td>\n",
       "      <td>58</td>\n",
       "      <td>-5</td>\n",
       "      <td>2</td>\n",
       "      <td>-1</td>\n",
       "    </tr>\n",
       "    <tr>\n",
       "      <th>291</th>\n",
       "      <td>20</td>\n",
       "      <td>6</td>\n",
       "      <td>0</td>\n",
       "      <td>-5</td>\n",
       "      <td>61</td>\n",
       "      <td>2</td>\n",
       "      <td>-2</td>\n",
       "      <td>1</td>\n",
       "    </tr>\n",
       "    <tr>\n",
       "      <th>292</th>\n",
       "      <td>20</td>\n",
       "      <td>7</td>\n",
       "      <td>0</td>\n",
       "      <td>-4</td>\n",
       "      <td>57</td>\n",
       "      <td>1</td>\n",
       "      <td>-4</td>\n",
       "      <td>0</td>\n",
       "    </tr>\n",
       "    <tr>\n",
       "      <th>293</th>\n",
       "      <td>20</td>\n",
       "      <td>8</td>\n",
       "      <td>-1</td>\n",
       "      <td>-1</td>\n",
       "      <td>59</td>\n",
       "      <td>-1</td>\n",
       "      <td>-4</td>\n",
       "      <td>0</td>\n",
       "    </tr>\n",
       "    <tr>\n",
       "      <th>294</th>\n",
       "      <td>20</td>\n",
       "      <td>9</td>\n",
       "      <td>-1</td>\n",
       "      <td>1</td>\n",
       "      <td>64</td>\n",
       "      <td>-5</td>\n",
       "      <td>-6</td>\n",
       "      <td>1</td>\n",
       "    </tr>\n",
       "    <tr>\n",
       "      <th>295</th>\n",
       "      <td>20</td>\n",
       "      <td>10</td>\n",
       "      <td>0</td>\n",
       "      <td>0</td>\n",
       "      <td>67</td>\n",
       "      <td>-6</td>\n",
       "      <td>-3</td>\n",
       "      <td>0</td>\n",
       "    </tr>\n",
       "    <tr>\n",
       "      <th>296</th>\n",
       "      <td>20</td>\n",
       "      <td>11</td>\n",
       "      <td>-4</td>\n",
       "      <td>0</td>\n",
       "      <td>61</td>\n",
       "      <td>-5</td>\n",
       "      <td>-7</td>\n",
       "      <td>0</td>\n",
       "    </tr>\n",
       "    <tr>\n",
       "      <th>297</th>\n",
       "      <td>20</td>\n",
       "      <td>12</td>\n",
       "      <td>-3</td>\n",
       "      <td>1</td>\n",
       "      <td>60</td>\n",
       "      <td>-6</td>\n",
       "      <td>-4</td>\n",
       "      <td>0</td>\n",
       "    </tr>\n",
       "    <tr>\n",
       "      <th>298</th>\n",
       "      <td>20</td>\n",
       "      <td>13</td>\n",
       "      <td>-1</td>\n",
       "      <td>0</td>\n",
       "      <td>57</td>\n",
       "      <td>-4</td>\n",
       "      <td>-4</td>\n",
       "      <td>-1</td>\n",
       "    </tr>\n",
       "    <tr>\n",
       "      <th>299</th>\n",
       "      <td>20</td>\n",
       "      <td>14</td>\n",
       "      <td>1</td>\n",
       "      <td>1</td>\n",
       "      <td>65</td>\n",
       "      <td>-6</td>\n",
       "      <td>2</td>\n",
       "      <td>0</td>\n",
       "    </tr>\n",
       "  </tbody>\n",
       "</table>\n",
       "</div>"
      ],
      "text/plain": [
       "     id  time  F_x  F_y  F_z  T_x  T_y  T_z\n",
       "285  20     0  185  105  118 -180  374   12\n",
       "286  20     1  -10    5   75  -36   34   -2\n",
       "287  20     2   -1   -4   43    1   -8    0\n",
       "288  20     3  -10   -2   64    3  -19    0\n",
       "289  20     4    0   -2   66    1    0    0\n",
       "290  20     5    0    1   58   -5    2   -1\n",
       "291  20     6    0   -5   61    2   -2    1\n",
       "292  20     7    0   -4   57    1   -4    0\n",
       "293  20     8   -1   -1   59   -1   -4    0\n",
       "294  20     9   -1    1   64   -5   -6    1\n",
       "295  20    10    0    0   67   -6   -3    0\n",
       "296  20    11   -4    0   61   -5   -7    0\n",
       "297  20    12   -3    1   60   -6   -4    0\n",
       "298  20    13   -1    0   57   -4   -4   -1\n",
       "299  20    14    1    1   65   -6    2    0"
      ]
     },
     "metadata": {},
     "output_type": "display_data"
    },
    {
     "data": {
      "image/png": "[encoded data removed]",
      "text/plain": [
       "<Figure size 1080x648 with 6 Axes>"
      ]
     },
     "metadata": {},
     "output_type": "display_data"
    }
   ],
   "source": [
    "# 失敗事例\n",
    "grp_idx = 20\n",
    "df_tmp = grp.get_group(grp_idx)\n",
    "\n",
    "display(df_tmp)\n",
    "\n",
    "fig = plt.figure(figsize=(15, 3*3))\n",
    "ax = fig.subplots(3, 2)\n",
    "ax[0, 0].plot(df_tmp.time, df_tmp.F_x);\n",
    "ax[0, 1].plot(df_tmp.time, df_tmp.T_x);\n",
    "ax[1, 0].plot(df_tmp.time, df_tmp.F_y);\n",
    "ax[1, 1].plot(df_tmp.time, df_tmp.T_y);\n",
    "ax[2, 0].plot(df_tmp.time, df_tmp.F_z);\n",
    "ax[2, 1].plot(df_tmp.time, df_tmp.T_z);"
   ]
  },
  {
   "cell_type": "markdown",
   "id": "cd785487-e65e-4da7-a684-e4275430dff6",
   "metadata": {},
   "source": [
    "### 特徴量の自動生成"
   ]
  },
  {
   "cell_type": "code",
   "execution_count": 16,
   "id": "a415209a-d07e-4240-9847-cb6912cf3397",
   "metadata": {},
   "outputs": [
    {
     "name": "stderr",
     "output_type": "stream",
     "text": [
      "Feature Extraction: 100%|██████████| 15/15 [00:39<00:00,  2.60s/it]\n"
     ]
    }
   ],
   "source": [
    "extracted_features = extract_features(\n",
    "    timeseries, column_id=\"id\", column_sort=\"time\"\n",
    ")"
   ]
  },
  {
   "cell_type": "code",
   "execution_count": 17,
   "id": "3a710e92-c2c3-4a95-bfec-61eb71b87e99",
   "metadata": {},
   "outputs": [
    {
     "data": {
      "text/plain": [
       "pandas.core.frame.DataFrame"
      ]
     },
     "metadata": {},
     "output_type": "display_data"
    },
    {
     "data": {
      "text/plain": [
       "Index(['F_x__variance_larger_than_standard_deviation',\n",
       "       'F_x__has_duplicate_max', 'F_x__has_duplicate_min',\n",
       "       'F_x__has_duplicate', 'F_x__sum_values', 'F_x__abs_energy',\n",
       "       'F_x__mean_abs_change', 'F_x__mean_change',\n",
       "       'F_x__mean_second_derivative_central', 'F_x__median',\n",
       "       ...\n",
       "       'T_z__permutation_entropy__dimension_5__tau_1',\n",
       "       'T_z__permutation_entropy__dimension_6__tau_1',\n",
       "       'T_z__permutation_entropy__dimension_7__tau_1',\n",
       "       'T_z__query_similarity_count__query_None__threshold_0.0',\n",
       "       'T_z__matrix_profile__feature_\"min\"__threshold_0.98',\n",
       "       'T_z__matrix_profile__feature_\"max\"__threshold_0.98',\n",
       "       'T_z__matrix_profile__feature_\"mean\"__threshold_0.98',\n",
       "       'T_z__matrix_profile__feature_\"median\"__threshold_0.98',\n",
       "       'T_z__matrix_profile__feature_\"25\"__threshold_0.98',\n",
       "       'T_z__matrix_profile__feature_\"75\"__threshold_0.98'],\n",
       "      dtype='object', length=4722)"
      ]
     },
     "metadata": {},
     "output_type": "display_data"
    },
    {
     "data": {
      "text/plain": [
       "(88, 4722)"
      ]
     },
     "metadata": {},
     "output_type": "display_data"
    }
   ],
   "source": [
    "display(type(extracted_features))\n",
    "display(extracted_features.columns)\n",
    "display(extracted_features.shape)"
   ]
  },
  {
   "cell_type": "markdown",
   "id": "7ba84126-4d22-4434-8f31-deb07cc8996e",
   "metadata": {},
   "source": [
    "### 特徴量の自動選択"
   ]
  },
  {
   "cell_type": "code",
   "execution_count": 18,
   "id": "00bf6226-57b4-47cf-9101-ea26f4fbfd01",
   "metadata": {},
   "outputs": [],
   "source": [
    "from tsfresh import select_features\n",
    "from tsfresh.utilities.dataframe_functions import impute"
   ]
  },
  {
   "cell_type": "markdown",
   "id": "1581fef3-15cd-45ec-b9dc-9bed98375e46",
   "metadata": {},
   "source": [
    "`impute`: 列毎に`NaN`と`Inf`を以下の値に置き換える。\n",
    "\n",
    "- `-inf` -> `min`\n",
    "- `+inf` -> `max`\n",
    "- `NaN` -> `median`\n",
    "\n",
    "documentは[こちら](https://tsfresh.readthedocs.io/en/latest/api/tsfresh.utilities.html#tsfresh.utilities.dataframe_functions.impute)\n"
   ]
  },
  {
   "cell_type": "code",
   "execution_count": 19,
   "id": "43d6f1e5-fa26-4749-a267-08304295a9b3",
   "metadata": {},
   "outputs": [
    {
     "name": "stderr",
     "output_type": "stream",
     "text": [
      "/opt/conda/lib/python3.9/site-packages/tsfresh/utilities/dataframe_functions.py:171: RuntimeWarning: The columns ['F_x__partial_autocorrelation__lag_7'\n",
      " 'F_x__partial_autocorrelation__lag_8'\n",
      " 'F_x__partial_autocorrelation__lag_9' ...\n",
      " 'T_z__matrix_profile__feature_\"median\"__threshold_0.98'\n",
      " 'T_z__matrix_profile__feature_\"25\"__threshold_0.98'\n",
      " 'T_z__matrix_profile__feature_\"75\"__threshold_0.98'] did not have any finite values. Filling with zeros.\n",
      "  warnings.warn(\"The columns {} did not have any finite values. Filling with zeros.\".format(\n"
     ]
    },
    {
     "data": {
      "text/plain": [
       "pandas.core.frame.DataFrame"
      ]
     },
     "metadata": {},
     "output_type": "display_data"
    },
    {
     "data": {
      "text/plain": [
       "Index(['F_x__value_count__value_-1', 'F_x__abs_energy',\n",
       "       'F_x__root_mean_square', 'F_x__range_count__max_1__min_-1',\n",
       "       'F_y__root_mean_square', 'F_y__abs_energy', 'T_y__variance',\n",
       "       'T_y__standard_deviation', 'F_x__fft_coefficient__attr_\"abs\"__coeff_1',\n",
       "       'T_y__fft_coefficient__attr_\"abs\"__coeff_1',\n",
       "       ...\n",
       "       'T_x__change_quantiles__f_agg_\"var\"__isabs_True__qh_0.2__ql_0.0',\n",
       "       'F_z__change_quantiles__f_agg_\"mean\"__isabs_True__qh_1.0__ql_0.8',\n",
       "       'T_x__quantile__q_0.1', 'F_y__has_duplicate_max',\n",
       "       'F_y__cwt_coefficients__coeff_13__w_2__widths_(2, 5, 10, 20)',\n",
       "       'F_y__cwt_coefficients__coeff_14__w_5__widths_(2, 5, 10, 20)',\n",
       "       'T_y__quantile__q_0.1', 'F_z__time_reversal_asymmetry_statistic__lag_1',\n",
       "       'F_x__quantile__q_0.2', 'F_y__quantile__q_0.7'],\n",
       "      dtype='object', length=676)"
      ]
     },
     "metadata": {},
     "output_type": "display_data"
    },
    {
     "data": {
      "text/plain": [
       "(88, 676)"
      ]
     },
     "metadata": {},
     "output_type": "display_data"
    }
   ],
   "source": [
    "impute(extracted_features)\n",
    "features_filtered = select_features(extracted_features, y)\n",
    "\n",
    "display(type(features_filtered))\n",
    "display(features_filtered.columns)\n",
    "display(features_filtered.shape)"
   ]
  },
  {
   "cell_type": "markdown",
   "id": "1740bf96-da2f-4481-857b-ec0f09b02cf6",
   "metadata": {},
   "source": [
    "4,722の特徴量が676個にまで削減された。"
   ]
  },
  {
   "cell_type": "markdown",
   "id": "e9baea28-d07e-4dfa-acb1-61f8b0422c08",
   "metadata": {},
   "source": [
    "なお、ここの内容まで[tsfreshのチュートリアル](https://tsfresh.readthedocs.io/en/v0.3.0/text/quick_start.html#quick-start-label)。"
   ]
  },
  {
   "cell_type": "markdown",
   "id": "2c924449-6f64-4827-a889-646eb3052975",
   "metadata": {},
   "source": [
    "### 特徴量の自動選択(sklearn.feature_selection.RFE)\n",
    "\n",
    "RFEの紹介はしてるのに、実装についての情報が何もない。くそ。\n",
    "\n",
    "たぶんsklearnと思う。っていうか、[sklearnのドキュメント](https://scikit-learn.org/stable/modules/generated/sklearn.feature_selection.RFE.html)に大体同じ例が載ってるな。\n",
    "インターフェースが固定されてるから同じような実装になるのは仕方がないが、書籍よりも公式のドキュメントを探した方が情報が多いってのはどういうことなんだ？？"
   ]
  },
  {
   "cell_type": "code",
   "execution_count": 20,
   "id": "f1bd73a2-b2f3-4711-b4b0-ea4497df18bb",
   "metadata": {},
   "outputs": [],
   "source": [
    "import random"
   ]
  },
  {
   "cell_type": "code",
   "execution_count": 21,
   "id": "3bf02564-b7df-4815-9f61-177643111af8",
   "metadata": {},
   "outputs": [],
   "source": [
    "x_idx = random.sample(range(len(features_filtered.columns)), 10)\n",
    "selX = features_filtered.iloc[:, x_idx].values\n",
    "unselected_features = list(\n",
    "    set(extracted_features.columns).difference(set(features_filtered.columns))\n",
    ")\n",
    "unselected_features = random.sample(unselected_features, 10)\n",
    "unsel_x_idx = [\n",
    "    idx for idx, val in enumerate(extracted_features.columns) if val in unselected_features\n",
    "]\n",
    "unselX = extracted_features.iloc[:, unsel_x_idx].values\n",
    "mixed_X = np.hstack([selX, unselX])"
   ]
  },
  {
   "cell_type": "code",
   "execution_count": 22,
   "id": "32f5c6bb-adfd-4d76-bb64-322e7b425693",
   "metadata": {},
   "outputs": [
    {
     "data": {
      "text/plain": [
       "[16, 251, 146, 437, 508, 89, 116, 567, 264, 165]"
      ]
     },
     "metadata": {},
     "output_type": "display_data"
    },
    {
     "data": {
      "text/plain": [
       "[49, 676, 703, 890, 1510, 2485, 2856, 3079, 3789, 4569]"
      ]
     },
     "metadata": {},
     "output_type": "display_data"
    }
   ],
   "source": [
    "display(x_idx)\n",
    "display(unsel_x_idx)"
   ]
  },
  {
   "cell_type": "code",
   "execution_count": 23,
   "id": "8f86586a-85e6-4a55-a07d-df2a9785e012",
   "metadata": {},
   "outputs": [
    {
     "data": {
      "text/plain": [
       "numpy.ndarray"
      ]
     },
     "metadata": {},
     "output_type": "display_data"
    },
    {
     "data": {
      "text/plain": [
       "(88, 20)"
      ]
     },
     "execution_count": 23,
     "metadata": {},
     "output_type": "execute_result"
    }
   ],
   "source": [
    "display(type(mixed_X))\n",
    "mixed_X.shape"
   ]
  },
  {
   "cell_type": "code",
   "execution_count": 24,
   "id": "a5e06d69-ce09-4089-96b0-e42fd24d3130",
   "metadata": {},
   "outputs": [],
   "source": [
    "from sklearn.feature_selection import RFE\n",
    "from sklearn.svm import SVC"
   ]
  },
  {
   "cell_type": "code",
   "execution_count": 25,
   "id": "476424ee-c5b5-4438-80aa-5243db7b93a6",
   "metadata": {},
   "outputs": [
    {
     "data": {
      "text/plain": [
       "array([ 4,  8, 15,  5, 11,  9,  6,  2,  1, 14, 16,  7, 10,  3, 17, 12, 18,\n",
       "       13, 19, 20])"
      ]
     },
     "execution_count": 25,
     "metadata": {},
     "output_type": "execute_result"
    }
   ],
   "source": [
    "svc = SVC(kernel=\"linear\", C=1)\n",
    "rfe = RFE(estimator=svc, n_features_to_select=1, step=1)\n",
    "rfe.fit(mixed_X, y)\n",
    "rfe.ranking_"
   ]
  },
  {
   "cell_type": "code",
   "execution_count": 26,
   "id": "f5b5899c-9369-456d-b129-509ab48e9143",
   "metadata": {},
   "outputs": [],
   "source": [
    "feature_names = []\n",
    "for i, r in enumerate(rfe.ranking_):\n",
    "    if i < 10:\n",
    "        idx = x_idx[i]\n",
    "        name = features_filtered.columns[idx]\n",
    "    else:\n",
    "        idx = unsel_x_idx[i - 10]\n",
    "        name = extracted_features.columns[idx]\n",
    "    feature_names.append(name)"
   ]
  },
  {
   "cell_type": "code",
   "execution_count": 27,
   "id": "e210e4a1-c7e7-4a1f-981b-d7b657205cbe",
   "metadata": {},
   "outputs": [
    {
     "data": {
      "text/html": [
       "<div>\n",
       "<style scoped>\n",
       "    .dataframe tbody tr th:only-of-type {\n",
       "        vertical-align: middle;\n",
       "    }\n",
       "\n",
       "    .dataframe tbody tr th {\n",
       "        vertical-align: top;\n",
       "    }\n",
       "\n",
       "    .dataframe thead th {\n",
       "        text-align: right;\n",
       "    }\n",
       "</style>\n",
       "<table border=\"1\" class=\"dataframe\">\n",
       "  <thead>\n",
       "    <tr style=\"text-align: right;\">\n",
       "      <th></th>\n",
       "      <th>feature_ranking</th>\n",
       "      <th>feature_name</th>\n",
       "      <th>is_FRESH_selected</th>\n",
       "    </tr>\n",
       "  </thead>\n",
       "  <tbody>\n",
       "    <tr>\n",
       "      <th>8</th>\n",
       "      <td>1</td>\n",
       "      <td>F_z__agg_autocorrelation__f_agg_\"median\"__maxl...</td>\n",
       "      <td>True</td>\n",
       "    </tr>\n",
       "    <tr>\n",
       "      <th>7</th>\n",
       "      <td>2</td>\n",
       "      <td>T_y__fourier_entropy__bins_10</td>\n",
       "      <td>True</td>\n",
       "    </tr>\n",
       "    <tr>\n",
       "      <th>13</th>\n",
       "      <td>3</td>\n",
       "      <td>F_y__agg_autocorrelation__f_agg_\"var\"__maxlag_40</td>\n",
       "      <td>False</td>\n",
       "    </tr>\n",
       "    <tr>\n",
       "      <th>0</th>\n",
       "      <td>4</td>\n",
       "      <td>F_x__variance</td>\n",
       "      <td>True</td>\n",
       "    </tr>\n",
       "    <tr>\n",
       "      <th>3</th>\n",
       "      <td>5</td>\n",
       "      <td>F_x__change_quantiles__f_agg_\"mean\"__isabs_Tru...</td>\n",
       "      <td>True</td>\n",
       "    </tr>\n",
       "    <tr>\n",
       "      <th>6</th>\n",
       "      <td>6</td>\n",
       "      <td>F_y__lempel_ziv_complexity__bins_100</td>\n",
       "      <td>True</td>\n",
       "    </tr>\n",
       "    <tr>\n",
       "      <th>11</th>\n",
       "      <td>7</td>\n",
       "      <td>F_x__approximate_entropy__m_2__r_0.5</td>\n",
       "      <td>False</td>\n",
       "    </tr>\n",
       "    <tr>\n",
       "      <th>1</th>\n",
       "      <td>8</td>\n",
       "      <td>F_z__change_quantiles__f_agg_\"mean\"__isabs_Tru...</td>\n",
       "      <td>True</td>\n",
       "    </tr>\n",
       "    <tr>\n",
       "      <th>5</th>\n",
       "      <td>9</td>\n",
       "      <td>F_x__change_quantiles__f_agg_\"var\"__isabs_True...</td>\n",
       "      <td>True</td>\n",
       "    </tr>\n",
       "    <tr>\n",
       "      <th>12</th>\n",
       "      <td>10</td>\n",
       "      <td>F_x__agg_linear_trend__attr_\"intercept\"__chunk...</td>\n",
       "      <td>False</td>\n",
       "    </tr>\n",
       "    <tr>\n",
       "      <th>4</th>\n",
       "      <td>11</td>\n",
       "      <td>T_x__change_quantiles__f_agg_\"var\"__isabs_Fals...</td>\n",
       "      <td>True</td>\n",
       "    </tr>\n",
       "    <tr>\n",
       "      <th>15</th>\n",
       "      <td>12</td>\n",
       "      <td>T_x__index_mass_quantile__q_0.3</td>\n",
       "      <td>False</td>\n",
       "    </tr>\n",
       "    <tr>\n",
       "      <th>17</th>\n",
       "      <td>13</td>\n",
       "      <td>T_x__agg_linear_trend__attr_\"slope\"__chunk_len...</td>\n",
       "      <td>False</td>\n",
       "    </tr>\n",
       "    <tr>\n",
       "      <th>9</th>\n",
       "      <td>14</td>\n",
       "      <td>T_y__change_quantiles__f_agg_\"var\"__isabs_Fals...</td>\n",
       "      <td>True</td>\n",
       "    </tr>\n",
       "    <tr>\n",
       "      <th>2</th>\n",
       "      <td>15</td>\n",
       "      <td>F_z__cid_ce__normalize_False</td>\n",
       "      <td>True</td>\n",
       "    </tr>\n",
       "    <tr>\n",
       "      <th>10</th>\n",
       "      <td>16</td>\n",
       "      <td>F_x__symmetry_looking__r_0.25</td>\n",
       "      <td>False</td>\n",
       "    </tr>\n",
       "    <tr>\n",
       "      <th>14</th>\n",
       "      <td>17</td>\n",
       "      <td>F_y__agg_linear_trend__attr_\"slope\"__chunk_len...</td>\n",
       "      <td>False</td>\n",
       "    </tr>\n",
       "    <tr>\n",
       "      <th>16</th>\n",
       "      <td>18</td>\n",
       "      <td>T_x__fft_coefficient__attr_\"abs\"__coeff_31</td>\n",
       "      <td>False</td>\n",
       "    </tr>\n",
       "    <tr>\n",
       "      <th>18</th>\n",
       "      <td>19</td>\n",
       "      <td>T_y__fft_coefficient__attr_\"angle\"__coeff_77</td>\n",
       "      <td>False</td>\n",
       "    </tr>\n",
       "    <tr>\n",
       "      <th>19</th>\n",
       "      <td>20</td>\n",
       "      <td>T_z__fft_coefficient__attr_\"angle\"__coeff_70</td>\n",
       "      <td>False</td>\n",
       "    </tr>\n",
       "  </tbody>\n",
       "</table>\n",
       "</div>"
      ],
      "text/plain": [
       "    feature_ranking                                       feature_name  \\\n",
       "8                 1  F_z__agg_autocorrelation__f_agg_\"median\"__maxl...   \n",
       "7                 2                      T_y__fourier_entropy__bins_10   \n",
       "13                3   F_y__agg_autocorrelation__f_agg_\"var\"__maxlag_40   \n",
       "0                 4                                      F_x__variance   \n",
       "3                 5  F_x__change_quantiles__f_agg_\"mean\"__isabs_Tru...   \n",
       "6                 6               F_y__lempel_ziv_complexity__bins_100   \n",
       "11                7               F_x__approximate_entropy__m_2__r_0.5   \n",
       "1                 8  F_z__change_quantiles__f_agg_\"mean\"__isabs_Tru...   \n",
       "5                 9  F_x__change_quantiles__f_agg_\"var\"__isabs_True...   \n",
       "12               10  F_x__agg_linear_trend__attr_\"intercept\"__chunk...   \n",
       "4                11  T_x__change_quantiles__f_agg_\"var\"__isabs_Fals...   \n",
       "15               12                    T_x__index_mass_quantile__q_0.3   \n",
       "17               13  T_x__agg_linear_trend__attr_\"slope\"__chunk_len...   \n",
       "9                14  T_y__change_quantiles__f_agg_\"var\"__isabs_Fals...   \n",
       "2                15                       F_z__cid_ce__normalize_False   \n",
       "10               16                      F_x__symmetry_looking__r_0.25   \n",
       "14               17  F_y__agg_linear_trend__attr_\"slope\"__chunk_len...   \n",
       "16               18         T_x__fft_coefficient__attr_\"abs\"__coeff_31   \n",
       "18               19       T_y__fft_coefficient__attr_\"angle\"__coeff_77   \n",
       "19               20       T_z__fft_coefficient__attr_\"angle\"__coeff_70   \n",
       "\n",
       "    is_FRESH_selected  \n",
       "8                True  \n",
       "7                True  \n",
       "13              False  \n",
       "0                True  \n",
       "3                True  \n",
       "6                True  \n",
       "11              False  \n",
       "1                True  \n",
       "5                True  \n",
       "12              False  \n",
       "4                True  \n",
       "15              False  \n",
       "17              False  \n",
       "9                True  \n",
       "2                True  \n",
       "10              False  \n",
       "14              False  \n",
       "16              False  \n",
       "18              False  \n",
       "19              False  "
      ]
     },
     "execution_count": 27,
     "metadata": {},
     "output_type": "execute_result"
    }
   ],
   "source": [
    "df_mixed_feature_rank =  pd.DataFrame(\n",
    "    {\n",
    "        \"feature_ranking\":rfe.ranking_, \n",
    "        \"feature_name\":feature_names, \n",
    "        \"is_FRESH_selected\":list(np.repeat(True, 10)) + list(np.repeat(False, 10)), \n",
    "    }\n",
    ")\n",
    "df_mixed_feature_rank.sort_values(\"feature_ranking\")"
   ]
  },
  {
   "cell_type": "code",
   "execution_count": null,
   "id": "5b0ce1ac-7968-46ac-850c-bf5cf39891fc",
   "metadata": {},
   "outputs": [],
   "source": []
  }
 ],
 "metadata": {
  "kernelspec": {
   "display_name": "Python 3 (ipykernel)",
   "language": "python",
   "name": "python3"
  },
  "language_info": {
   "codemirror_mode": {
    "name": "ipython",
    "version": 3
   },
   "file_extension": ".py",
   "mimetype": "text/x-python",
   "name": "python",
   "nbconvert_exporter": "python",
   "pygments_lexer": "ipython3",
   "version": "3.9.5"
  }
 },
 "nbformat": 4,
 "nbformat_minor": 5
}
